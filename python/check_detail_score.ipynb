{
 "cells": [
  {
   "cell_type": "code",
   "execution_count": 1,
   "outputs": [
    {
     "name": "stdout",
     "output_type": "stream",
     "text": [
      "Requirement already satisfied: seaborn in c:\\users\\i\\appdata\\local\\programs\\python\\python39\\lib\\site-packages (0.12.2)\n",
      "Requirement already satisfied: matplotlib!=3.6.1,>=3.1 in c:\\users\\i\\appdata\\local\\programs\\python\\python39\\lib\\site-packages (from seaborn) (3.7.2)\n",
      "Requirement already satisfied: pandas>=0.25 in c:\\users\\i\\appdata\\roaming\\python\\python39\\site-packages (from seaborn) (1.4.3)\n",
      "Requirement already satisfied: numpy!=1.24.0,>=1.17 in c:\\users\\i\\appdata\\roaming\\python\\python39\\site-packages (from seaborn) (1.24.1)\n",
      "Requirement already satisfied: cycler>=0.10 in c:\\users\\i\\appdata\\local\\programs\\python\\python39\\lib\\site-packages (from matplotlib!=3.6.1,>=3.1->seaborn) (0.11.0)\n",
      "Requirement already satisfied: pyparsing<3.1,>=2.3.1 in c:\\users\\i\\appdata\\local\\programs\\python\\python39\\lib\\site-packages (from matplotlib!=3.6.1,>=3.1->seaborn) (3.0.9)\n",
      "Requirement already satisfied: packaging>=20.0 in c:\\users\\i\\appdata\\local\\programs\\python\\python39\\lib\\site-packages (from matplotlib!=3.6.1,>=3.1->seaborn) (23.1)\n",
      "Requirement already satisfied: fonttools>=4.22.0 in c:\\users\\i\\appdata\\local\\programs\\python\\python39\\lib\\site-packages (from matplotlib!=3.6.1,>=3.1->seaborn) (4.41.1)\n",
      "Requirement already satisfied: kiwisolver>=1.0.1 in c:\\users\\i\\appdata\\local\\programs\\python\\python39\\lib\\site-packages (from matplotlib!=3.6.1,>=3.1->seaborn) (1.4.4)\n",
      "Requirement already satisfied: pillow>=6.2.0 in c:\\users\\i\\appdata\\local\\programs\\python\\python39\\lib\\site-packages (from matplotlib!=3.6.1,>=3.1->seaborn) (10.0.0)\n",
      "Requirement already satisfied: importlib-resources>=3.2.0 in c:\\users\\i\\appdata\\local\\programs\\python\\python39\\lib\\site-packages (from matplotlib!=3.6.1,>=3.1->seaborn) (6.0.0)\n",
      "Requirement already satisfied: python-dateutil>=2.7 in c:\\users\\i\\appdata\\local\\programs\\python\\python39\\lib\\site-packages (from matplotlib!=3.6.1,>=3.1->seaborn) (2.8.2)\n",
      "Requirement already satisfied: contourpy>=1.0.1 in c:\\users\\i\\appdata\\local\\programs\\python\\python39\\lib\\site-packages (from matplotlib!=3.6.1,>=3.1->seaborn) (1.1.0)\n",
      "Requirement already satisfied: pytz>=2020.1 in c:\\users\\i\\appdata\\roaming\\python\\python39\\site-packages (from pandas>=0.25->seaborn) (2022.1)\n",
      "Requirement already satisfied: zipp>=3.1.0 in c:\\users\\i\\appdata\\local\\programs\\python\\python39\\lib\\site-packages (from importlib-resources>=3.2.0->matplotlib!=3.6.1,>=3.1->seaborn) (3.16.2)\n",
      "Requirement already satisfied: six>=1.5 in c:\\users\\i\\appdata\\local\\programs\\python\\python39\\lib\\site-packages (from python-dateutil>=2.7->matplotlib!=3.6.1,>=3.1->seaborn) (1.16.0)\n"
     ]
    },
    {
     "name": "stderr",
     "output_type": "stream",
     "text": [
      "WARNING: You are using pip version 22.0.4; however, version 23.2.1 is available.\n",
      "You should consider upgrading via the 'C:\\Users\\I\\AppData\\Local\\Programs\\Python\\Python39\\python.exe -m pip install --upgrade pip' command.\n"
     ]
    },
    {
     "name": "stdout",
     "output_type": "stream",
     "text": [
      "Requirement already satisfied: dataframe_image in c:\\users\\i\\appdata\\local\\programs\\python\\python39\\lib\\site-packages (0.1.11)\n",
      "Requirement already satisfied: cssutils in c:\\users\\i\\appdata\\local\\programs\\python\\python39\\lib\\site-packages (from dataframe_image) (2.7.1)\n",
      "Requirement already satisfied: nbconvert>=5 in c:\\users\\i\\appdata\\local\\programs\\python\\python39\\lib\\site-packages (from dataframe_image) (7.7.3)\n",
      "Requirement already satisfied: lxml in c:\\users\\i\\appdata\\local\\programs\\python\\python39\\lib\\site-packages (from dataframe_image) (4.9.3)\n",
      "Requirement already satisfied: mistune in c:\\users\\i\\appdata\\local\\programs\\python\\python39\\lib\\site-packages (from dataframe_image) (3.0.1)\n",
      "Requirement already satisfied: html2image in c:\\users\\i\\appdata\\local\\programs\\python\\python39\\lib\\site-packages (from dataframe_image) (2.0.3)\n",
      "Requirement already satisfied: pillow in c:\\users\\i\\appdata\\local\\programs\\python\\python39\\lib\\site-packages (from dataframe_image) (10.0.0)\n",
      "Requirement already satisfied: pandas>=0.24 in c:\\users\\i\\appdata\\roaming\\python\\python39\\site-packages (from dataframe_image) (1.4.3)\n",
      "Requirement already satisfied: beautifulsoup4 in c:\\users\\i\\appdata\\local\\programs\\python\\python39\\lib\\site-packages (from dataframe_image) (4.12.2)\n",
      "Requirement already satisfied: aiohttp in c:\\users\\i\\appdata\\local\\programs\\python\\python39\\lib\\site-packages (from dataframe_image) (3.8.5)\n",
      "Requirement already satisfied: packaging in c:\\users\\i\\appdata\\local\\programs\\python\\python39\\lib\\site-packages (from dataframe_image) (23.1)\n",
      "Requirement already satisfied: requests in c:\\users\\i\\appdata\\local\\programs\\python\\python39\\lib\\site-packages (from dataframe_image) (2.31.0)\n",
      "Requirement already satisfied: importlib-metadata>=3.6 in c:\\users\\i\\appdata\\local\\programs\\python\\python39\\lib\\site-packages (from nbconvert>=5->dataframe_image) (6.8.0)\n",
      "Requirement already satisfied: nbformat>=5.7 in c:\\users\\i\\appdata\\local\\programs\\python\\python39\\lib\\site-packages (from nbconvert>=5->dataframe_image) (5.9.1)\n",
      "Requirement already satisfied: pygments>=2.4.1 in c:\\users\\i\\appdata\\local\\programs\\python\\python39\\lib\\site-packages (from nbconvert>=5->dataframe_image) (2.15.1)\n",
      "Requirement already satisfied: tinycss2 in c:\\users\\i\\appdata\\local\\programs\\python\\python39\\lib\\site-packages (from nbconvert>=5->dataframe_image) (1.2.1)\n",
      "Requirement already satisfied: jupyter-core>=4.7 in c:\\users\\i\\appdata\\local\\programs\\python\\python39\\lib\\site-packages (from nbconvert>=5->dataframe_image) (5.3.1)\n",
      "Requirement already satisfied: jupyterlab-pygments in c:\\users\\i\\appdata\\local\\programs\\python\\python39\\lib\\site-packages (from nbconvert>=5->dataframe_image) (0.2.2)\n",
      "Requirement already satisfied: jinja2>=3.0 in c:\\users\\i\\appdata\\local\\programs\\python\\python39\\lib\\site-packages (from nbconvert>=5->dataframe_image) (3.1.2)\n",
      "Requirement already satisfied: pandocfilters>=1.4.1 in c:\\users\\i\\appdata\\local\\programs\\python\\python39\\lib\\site-packages (from nbconvert>=5->dataframe_image) (1.5.0)\n",
      "Requirement already satisfied: traitlets>=5.1 in c:\\users\\i\\appdata\\local\\programs\\python\\python39\\lib\\site-packages (from nbconvert>=5->dataframe_image) (5.9.0)\n",
      "Requirement already satisfied: markupsafe>=2.0 in c:\\users\\i\\appdata\\local\\programs\\python\\python39\\lib\\site-packages (from nbconvert>=5->dataframe_image) (2.1.3)\n",
      "Requirement already satisfied: bleach!=5.0.0 in c:\\users\\i\\appdata\\local\\programs\\python\\python39\\lib\\site-packages (from nbconvert>=5->dataframe_image) (6.0.0)\n",
      "Requirement already satisfied: nbclient>=0.5.0 in c:\\users\\i\\appdata\\local\\programs\\python\\python39\\lib\\site-packages (from nbconvert>=5->dataframe_image) (0.8.0)\n",
      "Requirement already satisfied: defusedxml in c:\\users\\i\\appdata\\local\\programs\\python\\python39\\lib\\site-packages (from nbconvert>=5->dataframe_image) (0.7.1)\n",
      "Requirement already satisfied: python-dateutil>=2.8.1 in c:\\users\\i\\appdata\\local\\programs\\python\\python39\\lib\\site-packages (from pandas>=0.24->dataframe_image) (2.8.2)\n",
      "Requirement already satisfied: pytz>=2020.1 in c:\\users\\i\\appdata\\roaming\\python\\python39\\site-packages (from pandas>=0.24->dataframe_image) (2022.1)\n",
      "Requirement already satisfied: numpy>=1.18.5 in c:\\users\\i\\appdata\\roaming\\python\\python39\\site-packages (from pandas>=0.24->dataframe_image) (1.24.1)\n",
      "Requirement already satisfied: aiosignal>=1.1.2 in c:\\users\\i\\appdata\\local\\programs\\python\\python39\\lib\\site-packages (from aiohttp->dataframe_image) (1.3.1)\n",
      "Requirement already satisfied: multidict<7.0,>=4.5 in c:\\users\\i\\appdata\\local\\programs\\python\\python39\\lib\\site-packages (from aiohttp->dataframe_image) (6.0.4)\n",
      "Requirement already satisfied: frozenlist>=1.1.1 in c:\\users\\i\\appdata\\local\\programs\\python\\python39\\lib\\site-packages (from aiohttp->dataframe_image) (1.4.0)\n",
      "Requirement already satisfied: attrs>=17.3.0 in c:\\users\\i\\appdata\\local\\programs\\python\\python39\\lib\\site-packages (from aiohttp->dataframe_image) (23.1.0)\n",
      "Requirement already satisfied: async-timeout<5.0,>=4.0.0a3 in c:\\users\\i\\appdata\\local\\programs\\python\\python39\\lib\\site-packages (from aiohttp->dataframe_image) (4.0.2)\n",
      "Requirement already satisfied: yarl<2.0,>=1.0 in c:\\users\\i\\appdata\\local\\programs\\python\\python39\\lib\\site-packages (from aiohttp->dataframe_image) (1.9.2)\n",
      "Requirement already satisfied: charset-normalizer<4.0,>=2.0 in c:\\users\\i\\appdata\\local\\programs\\python\\python39\\lib\\site-packages (from aiohttp->dataframe_image) (3.2.0)\n",
      "Requirement already satisfied: soupsieve>1.2 in c:\\users\\i\\appdata\\local\\programs\\python\\python39\\lib\\site-packages (from beautifulsoup4->dataframe_image) (2.4.1)\n",
      "Requirement already satisfied: urllib3<3,>=1.21.1 in c:\\users\\i\\appdata\\local\\programs\\python\\python39\\lib\\site-packages (from requests->dataframe_image) (2.0.4)\n",
      "Requirement already satisfied: certifi>=2017.4.17 in c:\\users\\i\\appdata\\local\\programs\\python\\python39\\lib\\site-packages (from requests->dataframe_image) (2023.7.22)\n",
      "Requirement already satisfied: idna<4,>=2.5 in c:\\users\\i\\appdata\\local\\programs\\python\\python39\\lib\\site-packages (from requests->dataframe_image) (3.4)\n",
      "Requirement already satisfied: six>=1.9.0 in c:\\users\\i\\appdata\\local\\programs\\python\\python39\\lib\\site-packages (from bleach!=5.0.0->nbconvert>=5->dataframe_image) (1.16.0)\n",
      "Requirement already satisfied: webencodings in c:\\users\\i\\appdata\\local\\programs\\python\\python39\\lib\\site-packages (from bleach!=5.0.0->nbconvert>=5->dataframe_image) (0.5.1)\n",
      "Requirement already satisfied: zipp>=0.5 in c:\\users\\i\\appdata\\local\\programs\\python\\python39\\lib\\site-packages (from importlib-metadata>=3.6->nbconvert>=5->dataframe_image) (3.16.2)\n",
      "Requirement already satisfied: pywin32>=300 in c:\\users\\i\\appdata\\local\\programs\\python\\python39\\lib\\site-packages (from jupyter-core>=4.7->nbconvert>=5->dataframe_image) (306)\n",
      "Requirement already satisfied: platformdirs>=2.5 in c:\\users\\i\\appdata\\local\\programs\\python\\python39\\lib\\site-packages (from jupyter-core>=4.7->nbconvert>=5->dataframe_image) (3.9.1)\n",
      "Requirement already satisfied: jupyter-client>=6.1.12 in c:\\users\\i\\appdata\\local\\programs\\python\\python39\\lib\\site-packages (from nbclient>=0.5.0->nbconvert>=5->dataframe_image) (8.3.0)\n",
      "Requirement already satisfied: fastjsonschema in c:\\users\\i\\appdata\\local\\programs\\python\\python39\\lib\\site-packages (from nbformat>=5.7->nbconvert>=5->dataframe_image) (2.18.0)\n",
      "Requirement already satisfied: jsonschema>=2.6 in c:\\users\\i\\appdata\\local\\programs\\python\\python39\\lib\\site-packages (from nbformat>=5.7->nbconvert>=5->dataframe_image) (4.18.4)\n",
      "Requirement already satisfied: jsonschema-specifications>=2023.03.6 in c:\\users\\i\\appdata\\local\\programs\\python\\python39\\lib\\site-packages (from jsonschema>=2.6->nbformat>=5.7->nbconvert>=5->dataframe_image) (2023.7.1)\n",
      "Requirement already satisfied: rpds-py>=0.7.1 in c:\\users\\i\\appdata\\local\\programs\\python\\python39\\lib\\site-packages (from jsonschema>=2.6->nbformat>=5.7->nbconvert>=5->dataframe_image) (0.9.2)\n",
      "Requirement already satisfied: referencing>=0.28.4 in c:\\users\\i\\appdata\\local\\programs\\python\\python39\\lib\\site-packages (from jsonschema>=2.6->nbformat>=5.7->nbconvert>=5->dataframe_image) (0.30.0)\n",
      "Requirement already satisfied: pyzmq>=23.0 in c:\\users\\i\\appdata\\local\\programs\\python\\python39\\lib\\site-packages (from jupyter-client>=6.1.12->nbclient>=0.5.0->nbconvert>=5->dataframe_image) (25.1.0)\n",
      "Requirement already satisfied: tornado>=6.2 in c:\\users\\i\\appdata\\local\\programs\\python\\python39\\lib\\site-packages (from jupyter-client>=6.1.12->nbclient>=0.5.0->nbconvert>=5->dataframe_image) (6.3.2)\n"
     ]
    },
    {
     "name": "stderr",
     "output_type": "stream",
     "text": [
      "WARNING: You are using pip version 22.0.4; however, version 23.2.1 is available.\n",
      "You should consider upgrading via the 'C:\\Users\\I\\AppData\\Local\\Programs\\Python\\Python39\\python.exe -m pip install --upgrade pip' command.\n"
     ]
    }
   ],
   "source": [
    "!pip install seaborn\n",
    "!pip install dataframe_image"
   ],
   "metadata": {
    "collapsed": false,
    "ExecuteTime": {
     "end_time": "2023-07-31T06:03:51.386974500Z",
     "start_time": "2023-07-31T06:03:37.693103600Z"
    }
   }
  },
  {
   "cell_type": "code",
   "execution_count": 2,
   "outputs": [],
   "source": [
    "import pandas as pd\n",
    "import matplotlib.pyplot as plt\n",
    "from sklearn.metrics import accuracy_score, confusion_matrix, f1_score, classification_report, roc_auc_score\n",
    "from sklearn.preprocessing import LabelBinarizer\n",
    "import seaborn as sns\n",
    "import dataframe_image as dfi\n",
    "import numpy as np\n"
   ],
   "metadata": {
    "collapsed": false,
    "ExecuteTime": {
     "end_time": "2023-07-31T06:03:53.501451400Z",
     "start_time": "2023-07-31T06:03:51.387974600Z"
    }
   }
  },
  {
   "cell_type": "code",
   "execution_count": 20,
   "outputs": [],
   "source": [
    "DETAIL_MAP = [\"cont0 - 주제의 명료성\", \"cont1 - 설명의 구체성\", \"cont3 - 사고의 창의성\",\n",
    "              \"exp0 - 문법의 정확성\", \"exp1 - 단어 사용의 적절성\", \"exp2 - 문장 표현의 탄력성\",\n",
    "              \"org0 - 문단 간 구조의 적절성\", \"org1 - 문단 내 구조의 적절성\", \"org2 - 구조의 일관성\", \"org3 - 분량의 적절성\"]\n",
    "\n",
    "CATEGORY = \"영화_독서감상문\"\n",
    "VAL_PATH = f\"preprocess_data/{CATEGORY}_val.xlsx\"\n",
    "RESULT_PATH = f\"./result/data/{CATEGORY}_result.xlsx\"\n",
    "\n",
    "DIR_PATH = f\"./result/score/{CATEGORY}\""
   ],
   "metadata": {
    "collapsed": false,
    "ExecuteTime": {
     "end_time": "2023-07-31T06:10:36.727688200Z",
     "start_time": "2023-07-31T06:10:36.715678300Z"
    }
   }
  },
  {
   "cell_type": "code",
   "execution_count": 21,
   "outputs": [],
   "source": [
    "DF_VAL = pd.read_excel(VAL_PATH)\n",
    "DF_RESULT = pd.read_excel(RESULT_PATH)"
   ],
   "metadata": {
    "collapsed": false,
    "ExecuteTime": {
     "end_time": "2023-07-31T06:10:37.227840200Z",
     "start_time": "2023-07-31T06:10:37.165267800Z"
    }
   }
  },
  {
   "cell_type": "code",
   "execution_count": 22,
   "outputs": [
    {
     "name": "stdout",
     "output_type": "stream",
     "text": [
      "영화_독서감상문+cont0 - 주제의 명료성 cm SAVE\n",
      "영화_독서감상문+cont0 - 주제의 명료성 score SAVE\n",
      "영화_독서감상문+cont1 - 설명의 구체성 cm SAVE\n",
      "영화_독서감상문+cont1 - 설명의 구체성 score SAVE\n",
      "영화_독서감상문+cont3 - 사고의 창의성 cm SAVE\n",
      "영화_독서감상문+cont3 - 사고의 창의성 score SAVE\n",
      "영화_독서감상문+exp0 - 문법의 정확성 cm SAVE\n",
      "영화_독서감상문+exp0 - 문법의 정확성 score SAVE\n",
      "영화_독서감상문+exp1 - 단어 사용의 적절성 cm SAVE\n",
      "영화_독서감상문+exp1 - 단어 사용의 적절성 score SAVE\n",
      "영화_독서감상문+exp2 - 문장 표현의 탄력성 cm SAVE\n",
      "영화_독서감상문+exp2 - 문장 표현의 탄력성 score SAVE\n",
      "영화_독서감상문+org0 - 문단 간 구조의 적절성 cm SAVE\n",
      "영화_독서감상문+org0 - 문단 간 구조의 적절성 score SAVE\n",
      "영화_독서감상문+org1 - 문단 내 구조의 적절성 cm SAVE\n",
      "영화_독서감상문+org1 - 문단 내 구조의 적절성 score SAVE\n",
      "영화_독서감상문+org2 - 구조의 일관성 cm SAVE\n",
      "영화_독서감상문+org2 - 구조의 일관성 score SAVE\n",
      "영화_독서감상문+org3 - 분량의 적절성 cm SAVE\n",
      "영화_독서감상문+org3 - 분량의 적절성 score SAVE\n"
     ]
    },
    {
     "data": {
      "text/plain": "<Figure size 640x480 with 0 Axes>"
     },
     "metadata": {},
     "output_type": "display_data"
    }
   ],
   "source": [
    "# plt 한글깨짐 방지\n",
    "plt.rc('font', family='Malgun Gothic')\n",
    "\n",
    "df_label = DF_VAL\n",
    "df_preds = DF_RESULT\n",
    "\n",
    "for detail in DETAIL_MAP:\n",
    "    score_dict = {}\n",
    "    if not detail in df_label.columns:\n",
    "        print(df_label.columns)\n",
    "        print(detail)\n",
    "        continue\n",
    "    test = df_label[detail]\n",
    "    preds = df_preds[detail]\n",
    "\n",
    "    # classification_report\n",
    "    report = classification_report(test, preds, output_dict=True)\n",
    "\n",
    "    report_df = pd.DataFrame(report)\n",
    "    dfi.export(report_df, f'{DIR_PATH}/result_report_{CATEGORY}_{detail}.png', max_cols=-1, max_rows=-1)\n",
    "    # labels=[5, 6, 7, 8, 9]\n",
    "    labels = np.concatenate((pd.unique(test), pd.unique(preds)))\n",
    "    labels = np.unique(labels)\n",
    "    labels = np.sort(labels)\n",
    "\n",
    "    # confusion matrix\n",
    "    cm = confusion_matrix(test, preds, labels=labels)\n",
    "    ax = sns.heatmap(cm, annot=True, cmap='YlGn_r')\n",
    "    ax.set_xticklabels(labels)\n",
    "    ax.set_yticklabels(labels)\n",
    "    # plt.title(model_names[detail])\n",
    "    plt.title(detail)\n",
    "    plt.savefig(f'{DIR_PATH}/result_confusion_matrix_{CATEGORY}_{detail}.png')\n",
    "    print(f\"{CATEGORY}+{detail} cm SAVE\")\n",
    "    plt.clf()\n",
    "\n",
    "    # score\n",
    "    score_dict[\"accuracy_score\"] = '{:.4f}'.format(accuracy_score(test, preds))\n",
    "    score_dict[\"f1_score(micro)\"] = '{:.4f}'.format(f1_score(test, preds, average=\"micro\"))\n",
    "    score_dict[\"f1_score(macro)\"] = '{:.4f}'.format(f1_score(test, preds, average=\"macro\"))\n",
    "    score_dict[\"f1_score(weighted)\"] = '{:.4f}'.format(f1_score(test, preds, average=\"weighted\"))\n",
    "\n",
    "    label_binarizer = LabelBinarizer().fit(test)\n",
    "    test = label_binarizer.transform(test)\n",
    "    preds = label_binarizer.transform(preds)\n",
    "    auc = roc_auc_score(\n",
    "        test,\n",
    "        preds,\n",
    "        multi_class=\"ovr\",\n",
    "        average=\"micro\",\n",
    "    )\n",
    "    score_dict[\"auc-ovr(mircro)\"] = '{:.4f}'.format(auc)\n",
    "\n",
    "    score_df = pd.DataFrame(score_dict, index=[0])\n",
    "    score_df = score_df.style.set_table_styles([\n",
    "        {'selector': 'th',\n",
    "         'props': [('text-align', 'center')]},\n",
    "        {'selector': 'td',\n",
    "         'props': [('text-align', 'center')]}\n",
    "    ])\n",
    "    dfi.export(score_df, f'{DIR_PATH}/result_score_{CATEGORY}_{detail}.png', max_cols=-1, max_rows=-1)\n",
    "    print(f\"{CATEGORY}+{detail} score SAVE\")"
   ],
   "metadata": {
    "collapsed": false,
    "ExecuteTime": {
     "end_time": "2023-07-31T06:10:48.910969500Z",
     "start_time": "2023-07-31T06:10:37.665683500Z"
    }
   }
  },
  {
   "cell_type": "code",
   "execution_count": 36,
   "outputs": [],
   "source": [],
   "metadata": {
    "collapsed": false,
    "ExecuteTime": {
     "end_time": "2023-07-30T04:52:05.790695900Z",
     "start_time": "2023-07-30T04:52:05.760250900Z"
    }
   }
  },
  {
   "cell_type": "code",
   "execution_count": 29,
   "outputs": [],
   "source": [],
   "metadata": {
    "collapsed": false,
    "ExecuteTime": {
     "end_time": "2023-07-30T04:39:55.557341600Z",
     "start_time": "2023-07-30T04:39:55.515247700Z"
    }
   }
  },
  {
   "cell_type": "code",
   "execution_count": null,
   "outputs": [],
   "source": [],
   "metadata": {
    "collapsed": false
   }
  }
 ],
 "metadata": {
  "kernelspec": {
   "display_name": "Python 3",
   "language": "python",
   "name": "python3"
  },
  "language_info": {
   "codemirror_mode": {
    "name": "ipython",
    "version": 2
   },
   "file_extension": ".py",
   "mimetype": "text/x-python",
   "name": "python",
   "nbconvert_exporter": "python",
   "pygments_lexer": "ipython2",
   "version": "2.7.6"
  }
 },
 "nbformat": 4,
 "nbformat_minor": 0
}
