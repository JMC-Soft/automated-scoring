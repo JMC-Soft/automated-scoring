{
 "cells": [
  {
   "cell_type": "code",
   "execution_count": 94,
   "outputs": [
    {
     "name": "stdout",
     "output_type": "stream",
     "text": [
      "Requirement already satisfied: seaborn in c:\\users\\i\\appdata\\local\\programs\\python\\python39\\lib\\site-packages (0.12.2)\n",
      "Requirement already satisfied: numpy!=1.24.0,>=1.17 in c:\\users\\i\\appdata\\roaming\\python\\python39\\site-packages (from seaborn) (1.24.1)\n",
      "Requirement already satisfied: pandas>=0.25 in c:\\users\\i\\appdata\\roaming\\python\\python39\\site-packages (from seaborn) (1.4.3)\n",
      "Requirement already satisfied: matplotlib!=3.6.1,>=3.1 in c:\\users\\i\\appdata\\local\\programs\\python\\python39\\lib\\site-packages (from seaborn) (3.7.2)\n",
      "Requirement already satisfied: pillow>=6.2.0 in c:\\users\\i\\appdata\\local\\programs\\python\\python39\\lib\\site-packages (from matplotlib!=3.6.1,>=3.1->seaborn) (10.0.0)\n",
      "Requirement already satisfied: importlib-resources>=3.2.0 in c:\\users\\i\\appdata\\local\\programs\\python\\python39\\lib\\site-packages (from matplotlib!=3.6.1,>=3.1->seaborn) (6.0.0)\n",
      "Requirement already satisfied: kiwisolver>=1.0.1 in c:\\users\\i\\appdata\\local\\programs\\python\\python39\\lib\\site-packages (from matplotlib!=3.6.1,>=3.1->seaborn) (1.4.4)\n",
      "Requirement already satisfied: cycler>=0.10 in c:\\users\\i\\appdata\\local\\programs\\python\\python39\\lib\\site-packages (from matplotlib!=3.6.1,>=3.1->seaborn) (0.11.0)\n",
      "Requirement already satisfied: fonttools>=4.22.0 in c:\\users\\i\\appdata\\local\\programs\\python\\python39\\lib\\site-packages (from matplotlib!=3.6.1,>=3.1->seaborn) (4.41.1)\n",
      "Requirement already satisfied: python-dateutil>=2.7 in c:\\users\\i\\appdata\\local\\programs\\python\\python39\\lib\\site-packages (from matplotlib!=3.6.1,>=3.1->seaborn) (2.8.2)\n",
      "Requirement already satisfied: packaging>=20.0 in c:\\users\\i\\appdata\\local\\programs\\python\\python39\\lib\\site-packages (from matplotlib!=3.6.1,>=3.1->seaborn) (23.1)\n",
      "Requirement already satisfied: pyparsing<3.1,>=2.3.1 in c:\\users\\i\\appdata\\local\\programs\\python\\python39\\lib\\site-packages (from matplotlib!=3.6.1,>=3.1->seaborn) (3.0.9)\n",
      "Requirement already satisfied: contourpy>=1.0.1 in c:\\users\\i\\appdata\\local\\programs\\python\\python39\\lib\\site-packages (from matplotlib!=3.6.1,>=3.1->seaborn) (1.1.0)\n",
      "Requirement already satisfied: pytz>=2020.1 in c:\\users\\i\\appdata\\roaming\\python\\python39\\site-packages (from pandas>=0.25->seaborn) (2022.1)\n",
      "Requirement already satisfied: zipp>=3.1.0 in c:\\users\\i\\appdata\\local\\programs\\python\\python39\\lib\\site-packages (from importlib-resources>=3.2.0->matplotlib!=3.6.1,>=3.1->seaborn) (3.16.2)\n",
      "Requirement already satisfied: six>=1.5 in c:\\users\\i\\appdata\\local\\programs\\python\\python39\\lib\\site-packages (from python-dateutil>=2.7->matplotlib!=3.6.1,>=3.1->seaborn) (1.16.0)\n"
     ]
    },
    {
     "name": "stderr",
     "output_type": "stream",
     "text": [
      "WARNING: You are using pip version 22.0.4; however, version 23.2.1 is available.\n",
      "You should consider upgrading via the 'C:\\Users\\I\\AppData\\Local\\Programs\\Python\\Python39\\python.exe -m pip install --upgrade pip' command.\n"
     ]
    },
    {
     "name": "stdout",
     "output_type": "stream",
     "text": [
      "Requirement already satisfied: dataframe_image in c:\\users\\i\\appdata\\local\\programs\\python\\python39\\lib\\site-packages (0.1.11)\n",
      "Requirement already satisfied: cssutils in c:\\users\\i\\appdata\\local\\programs\\python\\python39\\lib\\site-packages (from dataframe_image) (2.7.1)\n",
      "Requirement already satisfied: packaging in c:\\users\\i\\appdata\\local\\programs\\python\\python39\\lib\\site-packages (from dataframe_image) (23.1)\n",
      "Requirement already satisfied: aiohttp in c:\\users\\i\\appdata\\local\\programs\\python\\python39\\lib\\site-packages (from dataframe_image) (3.8.5)\n",
      "Requirement already satisfied: pillow in c:\\users\\i\\appdata\\local\\programs\\python\\python39\\lib\\site-packages (from dataframe_image) (10.0.0)\n",
      "Requirement already satisfied: lxml in c:\\users\\i\\appdata\\local\\programs\\python\\python39\\lib\\site-packages (from dataframe_image) (4.9.3)\n",
      "Requirement already satisfied: nbconvert>=5 in c:\\users\\i\\appdata\\local\\programs\\python\\python39\\lib\\site-packages (from dataframe_image) (7.7.3)\n",
      "Requirement already satisfied: mistune in c:\\users\\i\\appdata\\local\\programs\\python\\python39\\lib\\site-packages (from dataframe_image) (3.0.1)\n",
      "Requirement already satisfied: html2image in c:\\users\\i\\appdata\\local\\programs\\python\\python39\\lib\\site-packages (from dataframe_image) (2.0.3)\n",
      "Requirement already satisfied: pandas>=0.24 in c:\\users\\i\\appdata\\roaming\\python\\python39\\site-packages (from dataframe_image) (1.4.3)\n",
      "Requirement already satisfied: requests in c:\\users\\i\\appdata\\local\\programs\\python\\python39\\lib\\site-packages (from dataframe_image) (2.31.0)\n",
      "Requirement already satisfied: beautifulsoup4 in c:\\users\\i\\appdata\\local\\programs\\python\\python39\\lib\\site-packages (from dataframe_image) (4.12.2)\n",
      "Requirement already satisfied: markupsafe>=2.0 in c:\\users\\i\\appdata\\local\\programs\\python\\python39\\lib\\site-packages (from nbconvert>=5->dataframe_image) (2.1.3)\n",
      "Requirement already satisfied: pandocfilters>=1.4.1 in c:\\users\\i\\appdata\\local\\programs\\python\\python39\\lib\\site-packages (from nbconvert>=5->dataframe_image) (1.5.0)\n",
      "Requirement already satisfied: pygments>=2.4.1 in c:\\users\\i\\appdata\\local\\programs\\python\\python39\\lib\\site-packages (from nbconvert>=5->dataframe_image) (2.15.1)\n",
      "Requirement already satisfied: jinja2>=3.0 in c:\\users\\i\\appdata\\local\\programs\\python\\python39\\lib\\site-packages (from nbconvert>=5->dataframe_image) (3.1.2)\n",
      "Requirement already satisfied: traitlets>=5.1 in c:\\users\\i\\appdata\\local\\programs\\python\\python39\\lib\\site-packages (from nbconvert>=5->dataframe_image) (5.9.0)\n",
      "Requirement already satisfied: jupyter-core>=4.7 in c:\\users\\i\\appdata\\local\\programs\\python\\python39\\lib\\site-packages (from nbconvert>=5->dataframe_image) (5.3.1)\n",
      "Requirement already satisfied: nbclient>=0.5.0 in c:\\users\\i\\appdata\\local\\programs\\python\\python39\\lib\\site-packages (from nbconvert>=5->dataframe_image) (0.8.0)\n",
      "Requirement already satisfied: nbformat>=5.7 in c:\\users\\i\\appdata\\local\\programs\\python\\python39\\lib\\site-packages (from nbconvert>=5->dataframe_image) (5.9.1)\n",
      "Requirement already satisfied: jupyterlab-pygments in c:\\users\\i\\appdata\\local\\programs\\python\\python39\\lib\\site-packages (from nbconvert>=5->dataframe_image) (0.2.2)\n",
      "Requirement already satisfied: bleach!=5.0.0 in c:\\users\\i\\appdata\\local\\programs\\python\\python39\\lib\\site-packages (from nbconvert>=5->dataframe_image) (6.0.0)\n",
      "Requirement already satisfied: importlib-metadata>=3.6 in c:\\users\\i\\appdata\\local\\programs\\python\\python39\\lib\\site-packages (from nbconvert>=5->dataframe_image) (6.8.0)\n",
      "Requirement already satisfied: tinycss2 in c:\\users\\i\\appdata\\local\\programs\\python\\python39\\lib\\site-packages (from nbconvert>=5->dataframe_image) (1.2.1)\n",
      "Requirement already satisfied: defusedxml in c:\\users\\i\\appdata\\local\\programs\\python\\python39\\lib\\site-packages (from nbconvert>=5->dataframe_image) (0.7.1)\n",
      "Requirement already satisfied: python-dateutil>=2.8.1 in c:\\users\\i\\appdata\\local\\programs\\python\\python39\\lib\\site-packages (from pandas>=0.24->dataframe_image) (2.8.2)\n",
      "Requirement already satisfied: pytz>=2020.1 in c:\\users\\i\\appdata\\roaming\\python\\python39\\site-packages (from pandas>=0.24->dataframe_image) (2022.1)\n",
      "Requirement already satisfied: numpy>=1.18.5 in c:\\users\\i\\appdata\\roaming\\python\\python39\\site-packages (from pandas>=0.24->dataframe_image) (1.24.1)\n",
      "Requirement already satisfied: attrs>=17.3.0 in c:\\users\\i\\appdata\\local\\programs\\python\\python39\\lib\\site-packages (from aiohttp->dataframe_image) (23.1.0)\n",
      "Requirement already satisfied: async-timeout<5.0,>=4.0.0a3 in c:\\users\\i\\appdata\\local\\programs\\python\\python39\\lib\\site-packages (from aiohttp->dataframe_image) (4.0.2)\n",
      "Requirement already satisfied: yarl<2.0,>=1.0 in c:\\users\\i\\appdata\\local\\programs\\python\\python39\\lib\\site-packages (from aiohttp->dataframe_image) (1.9.2)\n",
      "Requirement already satisfied: charset-normalizer<4.0,>=2.0 in c:\\users\\i\\appdata\\local\\programs\\python\\python39\\lib\\site-packages (from aiohttp->dataframe_image) (3.2.0)\n",
      "Requirement already satisfied: frozenlist>=1.1.1 in c:\\users\\i\\appdata\\local\\programs\\python\\python39\\lib\\site-packages (from aiohttp->dataframe_image) (1.4.0)\n",
      "Requirement already satisfied: aiosignal>=1.1.2 in c:\\users\\i\\appdata\\local\\programs\\python\\python39\\lib\\site-packages (from aiohttp->dataframe_image) (1.3.1)\n",
      "Requirement already satisfied: multidict<7.0,>=4.5 in c:\\users\\i\\appdata\\local\\programs\\python\\python39\\lib\\site-packages (from aiohttp->dataframe_image) (6.0.4)\n",
      "Requirement already satisfied: soupsieve>1.2 in c:\\users\\i\\appdata\\local\\programs\\python\\python39\\lib\\site-packages (from beautifulsoup4->dataframe_image) (2.4.1)\n",
      "Requirement already satisfied: idna<4,>=2.5 in c:\\users\\i\\appdata\\local\\programs\\python\\python39\\lib\\site-packages (from requests->dataframe_image) (3.4)\n",
      "Requirement already satisfied: urllib3<3,>=1.21.1 in c:\\users\\i\\appdata\\local\\programs\\python\\python39\\lib\\site-packages (from requests->dataframe_image) (2.0.4)\n",
      "Requirement already satisfied: certifi>=2017.4.17 in c:\\users\\i\\appdata\\local\\programs\\python\\python39\\lib\\site-packages (from requests->dataframe_image) (2023.7.22)\n",
      "Requirement already satisfied: webencodings in c:\\users\\i\\appdata\\local\\programs\\python\\python39\\lib\\site-packages (from bleach!=5.0.0->nbconvert>=5->dataframe_image) (0.5.1)\n",
      "Requirement already satisfied: six>=1.9.0 in c:\\users\\i\\appdata\\local\\programs\\python\\python39\\lib\\site-packages (from bleach!=5.0.0->nbconvert>=5->dataframe_image) (1.16.0)\n",
      "Requirement already satisfied: zipp>=0.5 in c:\\users\\i\\appdata\\local\\programs\\python\\python39\\lib\\site-packages (from importlib-metadata>=3.6->nbconvert>=5->dataframe_image) (3.16.2)\n",
      "Requirement already satisfied: platformdirs>=2.5 in c:\\users\\i\\appdata\\local\\programs\\python\\python39\\lib\\site-packages (from jupyter-core>=4.7->nbconvert>=5->dataframe_image) (3.9.1)\n",
      "Requirement already satisfied: pywin32>=300 in c:\\users\\i\\appdata\\local\\programs\\python\\python39\\lib\\site-packages (from jupyter-core>=4.7->nbconvert>=5->dataframe_image) (306)\n",
      "Requirement already satisfied: jupyter-client>=6.1.12 in c:\\users\\i\\appdata\\local\\programs\\python\\python39\\lib\\site-packages (from nbclient>=0.5.0->nbconvert>=5->dataframe_image) (8.3.0)\n",
      "Requirement already satisfied: jsonschema>=2.6 in c:\\users\\i\\appdata\\local\\programs\\python\\python39\\lib\\site-packages (from nbformat>=5.7->nbconvert>=5->dataframe_image) (4.18.4)\n",
      "Requirement already satisfied: fastjsonschema in c:\\users\\i\\appdata\\local\\programs\\python\\python39\\lib\\site-packages (from nbformat>=5.7->nbconvert>=5->dataframe_image) (2.18.0)\n",
      "Requirement already satisfied: rpds-py>=0.7.1 in c:\\users\\i\\appdata\\local\\programs\\python\\python39\\lib\\site-packages (from jsonschema>=2.6->nbformat>=5.7->nbconvert>=5->dataframe_image) (0.9.2)\n",
      "Requirement already satisfied: referencing>=0.28.4 in c:\\users\\i\\appdata\\local\\programs\\python\\python39\\lib\\site-packages (from jsonschema>=2.6->nbformat>=5.7->nbconvert>=5->dataframe_image) (0.30.0)\n",
      "Requirement already satisfied: jsonschema-specifications>=2023.03.6 in c:\\users\\i\\appdata\\local\\programs\\python\\python39\\lib\\site-packages (from jsonschema>=2.6->nbformat>=5.7->nbconvert>=5->dataframe_image) (2023.7.1)\n",
      "Requirement already satisfied: pyzmq>=23.0 in c:\\users\\i\\appdata\\local\\programs\\python\\python39\\lib\\site-packages (from jupyter-client>=6.1.12->nbclient>=0.5.0->nbconvert>=5->dataframe_image) (25.1.0)\n",
      "Requirement already satisfied: tornado>=6.2 in c:\\users\\i\\appdata\\local\\programs\\python\\python39\\lib\\site-packages (from jupyter-client>=6.1.12->nbclient>=0.5.0->nbconvert>=5->dataframe_image) (6.3.2)\n"
     ]
    },
    {
     "name": "stderr",
     "output_type": "stream",
     "text": [
      "WARNING: You are using pip version 22.0.4; however, version 23.2.1 is available.\n",
      "You should consider upgrading via the 'C:\\Users\\I\\AppData\\Local\\Programs\\Python\\Python39\\python.exe -m pip install --upgrade pip' command.\n"
     ]
    }
   ],
   "source": [
    "!pip install seaborn\n",
    "!pip install dataframe_image"
   ],
   "metadata": {
    "collapsed": false,
    "ExecuteTime": {
     "end_time": "2023-07-28T09:38:08.841764200Z",
     "start_time": "2023-07-28T09:38:02.712191500Z"
    }
   }
  },
  {
   "cell_type": "code",
   "execution_count": 95,
   "outputs": [],
   "source": [
    "import pandas as pd\n",
    "import matplotlib.pyplot as plt\n",
    "from sklearn.metrics import accuracy_score, confusion_matrix, f1_score, classification_report, roc_auc_score\n",
    "from sklearn.preprocessing import LabelBinarizer\n",
    "import seaborn as sns\n",
    "import dataframe_image as dfi\n",
    "import numpy as np\n"
   ],
   "metadata": {
    "collapsed": false,
    "ExecuteTime": {
     "end_time": "2023-07-28T09:38:08.857024800Z",
     "start_time": "2023-07-28T09:38:08.845923800Z"
    }
   }
  },
  {
   "cell_type": "code",
   "execution_count": 103,
   "outputs": [],
   "source": [
    "DETAIL = \"all\"\n",
    "\n",
    "DETAIL_MAP = {\"cont0\": \"내용1 – 주제의 명료성\", \"cont1\": \"내용2 – 근거의 적절성\", \"cont3\": \"내용3 – 프롬프트 독해력\",\n",
    "              \"exp0\": \"표현1 – 문법의 적절성\", \"exp1\": \"표현2 – 단어 사용의 적절성\", \"exp2\": \"표현3 – 문장 표현의 적절성\",\n",
    "              \"org0\": \"구성1 – 문단 내 구조의 적절성\", \"org1\": \"구성2 – 문단 간 구조의 적절성\", \"org2\": \"구성3 – 구조의 일관성\",\n",
    "              \"org3\": \"구성4 – 분량의 적절성\"}\n",
    "\n",
    "DIR_PATH = \"./result\"\n",
    "CATEGORY = \"글짓기\""
   ],
   "metadata": {
    "collapsed": false,
    "ExecuteTime": {
     "end_time": "2023-07-28T09:41:57.278117800Z",
     "start_time": "2023-07-28T09:41:57.273117400Z"
    }
   }
  },
  {
   "cell_type": "code",
   "execution_count": 104,
   "outputs": [],
   "source": [
    "df_essay = pd.read_excel(f\"preprocess/{CATEGORY}_val.xlsx\")\n",
    "df_result_essay = pd.read_excel(\"result.xlsx\")"
   ],
   "metadata": {
    "collapsed": false,
    "ExecuteTime": {
     "end_time": "2023-07-28T09:41:57.639455100Z",
     "start_time": "2023-07-28T09:41:57.592277700Z"
    }
   }
  },
  {
   "cell_type": "code",
   "execution_count": 98,
   "outputs": [
    {
     "name": "stderr",
     "output_type": "stream",
     "text": [
      "C:\\Users\\I\\AppData\\Local\\Temp\\ipykernel_29264\\1812403888.py:12: FutureWarning: Dropping of nuisance columns in DataFrame reductions (with 'numeric_only=None') is deprecated; in a future version this will raise TypeError.  Select only valid columns before calling the reduction.\n",
      "  df_scatter[\"pred\"] = df_preds.sum(axis=1)\n",
      "C:\\Users\\I\\AppData\\Roaming\\Python\\Python39\\site-packages\\sklearn\\metrics\\_classification.py:1334: UndefinedMetricWarning: Precision and F-score are ill-defined and being set to 0.0 in labels with no predicted samples. Use `zero_division` parameter to control this behavior.\n",
      "  _warn_prf(average, modifier, msg_start, len(result))\n",
      "C:\\Users\\I\\AppData\\Roaming\\Python\\Python39\\site-packages\\sklearn\\metrics\\_classification.py:1334: UndefinedMetricWarning: Precision and F-score are ill-defined and being set to 0.0 in labels with no predicted samples. Use `zero_division` parameter to control this behavior.\n",
      "  _warn_prf(average, modifier, msg_start, len(result))\n",
      "C:\\Users\\I\\AppData\\Roaming\\Python\\Python39\\site-packages\\sklearn\\metrics\\_classification.py:1334: UndefinedMetricWarning: Precision and F-score are ill-defined and being set to 0.0 in labels with no predicted samples. Use `zero_division` parameter to control this behavior.\n",
      "  _warn_prf(average, modifier, msg_start, len(result))\n"
     ]
    },
    {
     "name": "stdout",
     "output_type": "stream",
     "text": [
      "글짓기+all report SAVE\n"
     ]
    }
   ],
   "source": [
    "# plt 한글깨짐 방지\n",
    "plt.rc('font', family='Malgun Gothic')\n",
    "\n",
    "df_label = df_essay\n",
    "df_preds = df_result_essay\n",
    "\n",
    "df_scatter = pd.DataFrame()\n",
    "df_temp = df_label.drop(df_label.columns[0], axis=1)\n",
    "\n",
    "df_scatter[\"label\"] = df_temp.sum(axis=1)\n",
    "\n",
    "df_scatter[\"pred\"] = df_preds.sum(axis=1)\n",
    "\n",
    "test = df_scatter[\"label\"]\n",
    "preds = df_scatter[\"pred\"]\n",
    "score_dict = {}\n",
    "\n",
    "for detail in DETAIL_MAP.keys():\n",
    "    print(detail)\n",
    "    score_dict = {}\n",
    "    test = df_label[detail]\n",
    "    print(test)\n",
    "    preds = df_preds[detail]\n",
    "    print(preds)\n",
    "\n",
    "# classification_report\n",
    "report = classification_report(test, preds, output_dict=True)\n",
    "\n",
    "report_df = pd.DataFrame(report)\n",
    "dfi.export(report_df, f'{DIR_PATH}/result_report_{DETAIL}.png', max_cols=-1, max_rows=-1)\n",
    "print(f\"{CATEGORY}+{DETAIL} report SAVE\")"
   ],
   "metadata": {
    "collapsed": false,
    "ExecuteTime": {
     "end_time": "2023-07-28T09:38:09.699604200Z",
     "start_time": "2023-07-28T09:38:08.983141Z"
    }
   }
  },
  {
   "cell_type": "code",
   "execution_count": 99,
   "outputs": [
    {
     "data": {
      "text/plain": "0     24\n1     26\n2     27\n3     21\n4     27\n      ..\n84    27\n85    28\n86    24\n87    27\n88    27\nName: pred, Length: 89, dtype: int64"
     },
     "execution_count": 99,
     "metadata": {},
     "output_type": "execute_result"
    }
   ],
   "source": [
    "preds"
   ],
   "metadata": {
    "collapsed": false,
    "ExecuteTime": {
     "end_time": "2023-07-28T09:38:11.022282200Z",
     "start_time": "2023-07-28T09:38:10.978272200Z"
    }
   }
  },
  {
   "cell_type": "code",
   "execution_count": 100,
   "outputs": [
    {
     "name": "stdout",
     "output_type": "stream",
     "text": [
      "[26 27 25 19 24 11 21 22 23 20 30 28 29]\n",
      "[24 26 27 21 20 22 23 28 25 29 30]\n",
      "0     24\n",
      "1     26\n",
      "2     27\n",
      "3     21\n",
      "4     27\n",
      "      ..\n",
      "84    27\n",
      "85    28\n",
      "86    24\n",
      "87    27\n",
      "88    27\n",
      "Name: pred, Length: 89, dtype: int64\n",
      "[11 19 20 21 22 23 24 25 26 27 28 29 30]\n"
     ]
    }
   ],
   "source": [
    "# labels=[5, 6, 7, 8, 9]\n",
    "print(pd.unique(test))\n",
    "print(pd.unique(preds))\n",
    "print(preds)\n",
    "labels = np.concatenate((pd.unique(test), pd.unique(preds)))\n",
    "labels = np.unique(labels)\n",
    "labels = np.sort(labels)\n",
    "print(labels)"
   ],
   "metadata": {
    "collapsed": false,
    "ExecuteTime": {
     "end_time": "2023-07-28T09:38:13.783358900Z",
     "start_time": "2023-07-28T09:38:13.761210600Z"
    }
   }
  },
  {
   "cell_type": "code",
   "execution_count": 101,
   "outputs": [
    {
     "name": "stdout",
     "output_type": "stream",
     "text": [
      "글짓기+all cm SAVE\n"
     ]
    },
    {
     "data": {
      "text/plain": "<Figure size 640x480 with 0 Axes>"
     },
     "metadata": {},
     "output_type": "display_data"
    }
   ],
   "source": [
    "# confusion matrix\n",
    "cm = confusion_matrix(test, preds, labels=labels)\n",
    "ax = sns.heatmap(cm, annot=True, cmap='YlGn_r')\n",
    "ax.set_xticklabels(labels)\n",
    "ax.set_yticklabels(labels)\n",
    "# plt.title(model_names[detail])\n",
    "plt.title(DETAIL)\n",
    "plt.savefig(f'{DIR_PATH}/result_confusion_matrix_{DETAIL}.png')\n",
    "print(f\"{CATEGORY}+{DETAIL} cm SAVE\")\n",
    "plt.clf()"
   ],
   "metadata": {
    "collapsed": false,
    "ExecuteTime": {
     "end_time": "2023-07-28T09:38:14.803239800Z",
     "start_time": "2023-07-28T09:38:14.263613800Z"
    }
   }
  },
  {
   "cell_type": "code",
   "execution_count": 102,
   "outputs": [
    {
     "name": "stdout",
     "output_type": "stream",
     "text": [
      "글짓기+all score SAVE\n"
     ]
    }
   ],
   "source": [
    "# score\n",
    "score_dict[\"accuracy_score\"] = '{:.4f}'.format(accuracy_score(test, preds))\n",
    "score_dict[\"f1_score(micro)\"] = '{:.4f}'.format(f1_score(test, preds, average=\"micro\"))\n",
    "score_dict[\"f1_score(macro)\"] = '{:.4f}'.format(f1_score(test, preds, average=\"macro\"))\n",
    "score_dict[\"f1_score(weighted)\"] = '{:.4f}'.format(f1_score(test, preds, average=\"weighted\"))\n",
    "\n",
    "label_binarizer = LabelBinarizer().fit(test)\n",
    "test = label_binarizer.transform(test)\n",
    "preds = label_binarizer.transform(preds)\n",
    "auc = roc_auc_score(\n",
    "    test,\n",
    "    preds,\n",
    "    multi_class=\"ovr\",\n",
    "    average=\"micro\",\n",
    ")\n",
    "score_dict[\"auc-ovr(mircro)\"] = '{:.4f}'.format(auc)\n",
    "\n",
    "score_df = pd.DataFrame(score_dict, index=[0])\n",
    "score_df = score_df.style.set_table_styles([\n",
    "    {'selector': 'th',\n",
    "     'props': [('text-align', 'center')]},\n",
    "    {'selector': 'td',\n",
    "     'props': [('text-align', 'center')]}\n",
    "])\n",
    "dfi.export(score_df, f'{DIR_PATH}/result_score_{DETAIL}.png', max_cols=-1, max_rows=-1)\n",
    "print(f\"{CATEGORY}+{DETAIL} score SAVE\")\n"
   ],
   "metadata": {
    "collapsed": false,
    "ExecuteTime": {
     "end_time": "2023-07-28T09:38:21.696831100Z",
     "start_time": "2023-07-28T09:38:21.147427300Z"
    }
   }
  },
  {
   "cell_type": "code",
   "execution_count": null,
   "outputs": [],
   "source": [],
   "metadata": {
    "collapsed": false
   }
  }
 ],
 "metadata": {
  "kernelspec": {
   "display_name": "Python 3",
   "language": "python",
   "name": "python3"
  },
  "language_info": {
   "codemirror_mode": {
    "name": "ipython",
    "version": 2
   },
   "file_extension": ".py",
   "mimetype": "text/x-python",
   "name": "python",
   "nbconvert_exporter": "python",
   "pygments_lexer": "ipython2",
   "version": "2.7.6"
  }
 },
 "nbformat": 4,
 "nbformat_minor": 0
}
