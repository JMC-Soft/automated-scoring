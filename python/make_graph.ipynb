{
 "cells": [
  {
   "cell_type": "code",
   "execution_count": 2,
   "metadata": {
    "collapsed": true,
    "ExecuteTime": {
     "end_time": "2023-07-28T06:59:10.196359700Z",
     "start_time": "2023-07-28T06:58:55.548991400Z"
    }
   },
   "outputs": [
    {
     "name": "stdout",
     "output_type": "stream",
     "text": [
      "Collecting matplotlib\n",
      "  Using cached matplotlib-3.7.2-cp39-cp39-win_amd64.whl (7.5 MB)\n",
      "Requirement already satisfied: numpy>=1.20 in c:\\users\\i\\appdata\\roaming\\python\\python39\\site-packages (from matplotlib) (1.24.1)\n",
      "Collecting fonttools>=4.22.0\n",
      "  Using cached fonttools-4.41.1-cp39-cp39-win_amd64.whl (2.1 MB)\n",
      "Collecting pillow>=6.2.0\n",
      "  Using cached Pillow-10.0.0-cp39-cp39-win_amd64.whl (2.5 MB)\n",
      "Collecting cycler>=0.10\n",
      "  Using cached cycler-0.11.0-py3-none-any.whl (6.4 kB)\n",
      "Collecting kiwisolver>=1.0.1\n",
      "  Using cached kiwisolver-1.4.4-cp39-cp39-win_amd64.whl (55 kB)\n",
      "Collecting importlib-resources>=3.2.0\n",
      "  Using cached importlib_resources-6.0.0-py3-none-any.whl (31 kB)\n",
      "Requirement already satisfied: packaging>=20.0 in c:\\users\\i\\appdata\\local\\programs\\python\\python39\\lib\\site-packages (from matplotlib) (23.1)\n",
      "Requirement already satisfied: python-dateutil>=2.7 in c:\\users\\i\\appdata\\local\\programs\\python\\python39\\lib\\site-packages (from matplotlib) (2.8.2)\n",
      "Collecting pyparsing<3.1,>=2.3.1\n",
      "  Using cached pyparsing-3.0.9-py3-none-any.whl (98 kB)\n",
      "Collecting contourpy>=1.0.1\n",
      "  Using cached contourpy-1.1.0-cp39-cp39-win_amd64.whl (429 kB)\n",
      "Requirement already satisfied: zipp>=3.1.0 in c:\\users\\i\\appdata\\local\\programs\\python\\python39\\lib\\site-packages (from importlib-resources>=3.2.0->matplotlib) (3.16.2)\n",
      "Requirement already satisfied: six>=1.5 in c:\\users\\i\\appdata\\local\\programs\\python\\python39\\lib\\site-packages (from python-dateutil>=2.7->matplotlib) (1.16.0)\n",
      "Installing collected packages: pyparsing, pillow, kiwisolver, importlib-resources, fonttools, cycler, contourpy, matplotlib\n",
      "Successfully installed contourpy-1.1.0 cycler-0.11.0 fonttools-4.41.1 importlib-resources-6.0.0 kiwisolver-1.4.4 matplotlib-3.7.2 pillow-10.0.0 pyparsing-3.0.9\n"
     ]
    },
    {
     "name": "stderr",
     "output_type": "stream",
     "text": [
      "WARNING: You are using pip version 22.0.4; however, version 23.2.1 is available.\n",
      "You should consider upgrading via the 'C:\\Users\\I\\AppData\\Local\\Programs\\Python\\Python39\\python.exe -m pip install --upgrade pip' command.\n"
     ]
    }
   ],
   "source": [
    "!pip install matplotlib"
   ]
  },
  {
   "cell_type": "code",
   "execution_count": 26,
   "outputs": [],
   "source": [
    "import pandas as pd\n",
    "import matplotlib.pyplot as plt"
   ],
   "metadata": {
    "collapsed": false,
    "ExecuteTime": {
     "end_time": "2023-07-28T07:06:52.254498800Z",
     "start_time": "2023-07-28T07:06:52.244497Z"
    }
   }
  },
  {
   "cell_type": "code",
   "execution_count": 27,
   "outputs": [],
   "source": [
    "CATEGORY = \"글짓기\""
   ],
   "metadata": {
    "collapsed": false,
    "ExecuteTime": {
     "end_time": "2023-07-28T07:06:52.525057900Z",
     "start_time": "2023-07-28T07:06:52.515056300Z"
    }
   }
  },
  {
   "cell_type": "code",
   "execution_count": 28,
   "outputs": [],
   "source": [
    "df_train = pd.read_excel(f\"./{CATEGORY}_train.xlsx\")\n",
    "df_val = pd.read_excel(f\"./{CATEGORY}_val.xlsx\")\n",
    "df_all = pd.concat([df_train, df_val])"
   ],
   "metadata": {
    "collapsed": false,
    "ExecuteTime": {
     "end_time": "2023-07-28T07:06:52.900957Z",
     "start_time": "2023-07-28T07:06:52.757924100Z"
    }
   }
  },
  {
   "cell_type": "code",
   "execution_count": 29,
   "outputs": [
    {
     "data": {
      "text/plain": "                                                 text  cont0  cont1  cont2  \\\n0   페이커는 만 16세의 나이에 데뷔한 2세대 롤 프로게이머이다. \\n 데뷔하기 전부터...      2      2      0   \n1   내 롤모델은 즐라탄 이브라히모비치이다. 유럽 선수들중에선 이름이 굉장히 길고 특이하...      3      2      0   \n2   이순신은 1545년 인종 1년때 3월 8일 서울 건천동에서 이정의 셋째 아들로 태어...      3      2      0   \n3   난 어릴 때 위인전은 박지성이였다. 박지성은 서울 관악구 신림동에서 출생했는데 집안...      3      2      0   \n4   나의 멘토는 바로 나의 아버지이다.\\n힘든 것이 있거나, 고민되는 것이 있다면 거의...      3      2      0   \n..                                                ...    ...    ...    ...   \n84  나의 롤모델은 이봉창이다. 이봉창은 열여섯 살 때 형과 함께 일본으로 건너갔다. 일...      2      2      0   \n85  나의 롤모델은 최제우다. 최제우는 몰락한 양반의 집안에서 첩의 아들로 태어났다. 당...      2      2      0   \n86  내인생의 롤모델은 부모님인거 같다. 어릴적엔 베토벤이나 이순신 같은 사람이 였는데 ...      3      3      0   \n87  나의 롤모델은 나의 아버지다. 나는 아버지가 좋다.나는 아버지가 대학을 나오신줄알았...      2      3      0   \n88  나는 어릴때부터 가수가 되려고 했다. 학교축제나 행사때 나는 항상 춤과 노래를 도맡...      2      3      0   \n\n    cont3  exp0  exp1  exp2  org0  org1  org2  org3  \n0       3     2     2     2     2     2     2     3  \n1       3     3     3     2     2     3     3     3  \n2       2     3     3     2     2     2     3     2  \n3       2     2     2     2     2     3     3     2  \n4       3     3     3     2     2     3     3     2  \n..    ...   ...   ...   ...   ...   ...   ...   ...  \n84      2     3     3     3     3     3     3     3  \n85      2     3     3     3     3     3     3     3  \n86      3     3     3     3     3     3     3     3  \n87      3     3     3     3     3     3     3     3  \n88      3     2     2     3     3     3     3     3  \n\n[801 rows x 12 columns]",
      "text/html": "<div>\n<style scoped>\n    .dataframe tbody tr th:only-of-type {\n        vertical-align: middle;\n    }\n\n    .dataframe tbody tr th {\n        vertical-align: top;\n    }\n\n    .dataframe thead th {\n        text-align: right;\n    }\n</style>\n<table border=\"1\" class=\"dataframe\">\n  <thead>\n    <tr style=\"text-align: right;\">\n      <th></th>\n      <th>text</th>\n      <th>cont0</th>\n      <th>cont1</th>\n      <th>cont2</th>\n      <th>cont3</th>\n      <th>exp0</th>\n      <th>exp1</th>\n      <th>exp2</th>\n      <th>org0</th>\n      <th>org1</th>\n      <th>org2</th>\n      <th>org3</th>\n    </tr>\n  </thead>\n  <tbody>\n    <tr>\n      <th>0</th>\n      <td>페이커는 만 16세의 나이에 데뷔한 2세대 롤 프로게이머이다. \\n 데뷔하기 전부터...</td>\n      <td>2</td>\n      <td>2</td>\n      <td>0</td>\n      <td>3</td>\n      <td>2</td>\n      <td>2</td>\n      <td>2</td>\n      <td>2</td>\n      <td>2</td>\n      <td>2</td>\n      <td>3</td>\n    </tr>\n    <tr>\n      <th>1</th>\n      <td>내 롤모델은 즐라탄 이브라히모비치이다. 유럽 선수들중에선 이름이 굉장히 길고 특이하...</td>\n      <td>3</td>\n      <td>2</td>\n      <td>0</td>\n      <td>3</td>\n      <td>3</td>\n      <td>3</td>\n      <td>2</td>\n      <td>2</td>\n      <td>3</td>\n      <td>3</td>\n      <td>3</td>\n    </tr>\n    <tr>\n      <th>2</th>\n      <td>이순신은 1545년 인종 1년때 3월 8일 서울 건천동에서 이정의 셋째 아들로 태어...</td>\n      <td>3</td>\n      <td>2</td>\n      <td>0</td>\n      <td>2</td>\n      <td>3</td>\n      <td>3</td>\n      <td>2</td>\n      <td>2</td>\n      <td>2</td>\n      <td>3</td>\n      <td>2</td>\n    </tr>\n    <tr>\n      <th>3</th>\n      <td>난 어릴 때 위인전은 박지성이였다. 박지성은 서울 관악구 신림동에서 출생했는데 집안...</td>\n      <td>3</td>\n      <td>2</td>\n      <td>0</td>\n      <td>2</td>\n      <td>2</td>\n      <td>2</td>\n      <td>2</td>\n      <td>2</td>\n      <td>3</td>\n      <td>3</td>\n      <td>2</td>\n    </tr>\n    <tr>\n      <th>4</th>\n      <td>나의 멘토는 바로 나의 아버지이다.\\n힘든 것이 있거나, 고민되는 것이 있다면 거의...</td>\n      <td>3</td>\n      <td>2</td>\n      <td>0</td>\n      <td>3</td>\n      <td>3</td>\n      <td>3</td>\n      <td>2</td>\n      <td>2</td>\n      <td>3</td>\n      <td>3</td>\n      <td>2</td>\n    </tr>\n    <tr>\n      <th>...</th>\n      <td>...</td>\n      <td>...</td>\n      <td>...</td>\n      <td>...</td>\n      <td>...</td>\n      <td>...</td>\n      <td>...</td>\n      <td>...</td>\n      <td>...</td>\n      <td>...</td>\n      <td>...</td>\n      <td>...</td>\n    </tr>\n    <tr>\n      <th>84</th>\n      <td>나의 롤모델은 이봉창이다. 이봉창은 열여섯 살 때 형과 함께 일본으로 건너갔다. 일...</td>\n      <td>2</td>\n      <td>2</td>\n      <td>0</td>\n      <td>2</td>\n      <td>3</td>\n      <td>3</td>\n      <td>3</td>\n      <td>3</td>\n      <td>3</td>\n      <td>3</td>\n      <td>3</td>\n    </tr>\n    <tr>\n      <th>85</th>\n      <td>나의 롤모델은 최제우다. 최제우는 몰락한 양반의 집안에서 첩의 아들로 태어났다. 당...</td>\n      <td>2</td>\n      <td>2</td>\n      <td>0</td>\n      <td>2</td>\n      <td>3</td>\n      <td>3</td>\n      <td>3</td>\n      <td>3</td>\n      <td>3</td>\n      <td>3</td>\n      <td>3</td>\n    </tr>\n    <tr>\n      <th>86</th>\n      <td>내인생의 롤모델은 부모님인거 같다. 어릴적엔 베토벤이나 이순신 같은 사람이 였는데 ...</td>\n      <td>3</td>\n      <td>3</td>\n      <td>0</td>\n      <td>3</td>\n      <td>3</td>\n      <td>3</td>\n      <td>3</td>\n      <td>3</td>\n      <td>3</td>\n      <td>3</td>\n      <td>3</td>\n    </tr>\n    <tr>\n      <th>87</th>\n      <td>나의 롤모델은 나의 아버지다. 나는 아버지가 좋다.나는 아버지가 대학을 나오신줄알았...</td>\n      <td>2</td>\n      <td>3</td>\n      <td>0</td>\n      <td>3</td>\n      <td>3</td>\n      <td>3</td>\n      <td>3</td>\n      <td>3</td>\n      <td>3</td>\n      <td>3</td>\n      <td>3</td>\n    </tr>\n    <tr>\n      <th>88</th>\n      <td>나는 어릴때부터 가수가 되려고 했다. 학교축제나 행사때 나는 항상 춤과 노래를 도맡...</td>\n      <td>2</td>\n      <td>3</td>\n      <td>0</td>\n      <td>3</td>\n      <td>2</td>\n      <td>2</td>\n      <td>3</td>\n      <td>3</td>\n      <td>3</td>\n      <td>3</td>\n      <td>3</td>\n    </tr>\n  </tbody>\n</table>\n<p>801 rows × 12 columns</p>\n</div>"
     },
     "execution_count": 29,
     "metadata": {},
     "output_type": "execute_result"
    }
   ],
   "source": [],
   "metadata": {
    "collapsed": false,
    "ExecuteTime": {
     "end_time": "2023-07-28T07:06:53.038161600Z",
     "start_time": "2023-07-28T07:06:53.015983400Z"
    }
   }
  },
  {
   "cell_type": "code",
   "execution_count": 30,
   "outputs": [],
   "source": [
    "def divide_cata(or_df):\n",
    "    _tempdf = pd.DataFrame()\n",
    "    _tempdf[\"exp\"] = or_df[\"exp0\"] + or_df[\"exp1\"] + or_df[\"exp2\"]\n",
    "    _tempdf[\"org\"] = or_df[\"org0\"] + or_df[\"org1\"] + or_df[\"org2\"] + or_df[\"org3\"]\n",
    "    _tempdf[\"cont\"] = or_df[\"cont0\"] + or_df[\"cont1\"] + or_df[\"cont2\"] + or_df[\"cont3\"]\n",
    "    _tempdf[\"total\"] = _tempdf[\"exp\"] + _tempdf[\"cont\"] + _tempdf[\"org\"]\n",
    "\n",
    "    return _tempdf"
   ],
   "metadata": {
    "collapsed": false,
    "ExecuteTime": {
     "end_time": "2023-07-28T07:06:53.740930600Z",
     "start_time": "2023-07-28T07:06:53.711924900Z"
    }
   }
  },
  {
   "cell_type": "code",
   "execution_count": 35,
   "outputs": [
    {
     "name": "stdout",
     "output_type": "stream",
     "text": [
      "30    20\n",
      "30    27\n",
      "Name: total, dtype: int64\n",
      "Int64Index([30, 29, 27, 22, 23, 21, 24, 28, 20, 25, 26, 19, 18, 17, 11], dtype='int64')\n"
     ]
    },
    {
     "data": {
      "text/plain": "Text(0, 0.5, 'Count')"
     },
     "execution_count": 35,
     "metadata": {},
     "output_type": "execute_result"
    },
    {
     "data": {
      "text/plain": "<Figure size 640x480 with 1 Axes>",
      "image/png": "[encoded data removed]"
     },
     "metadata": {},
     "output_type": "display_data"
    }
   ],
   "source": [
    "plt.rc('font', family='Malgun Gothic')\n",
    "\n",
    "#_cata\n",
    "df_train_cata = divide_cata(df_train)\n",
    "df_val_cata = divide_cata(df_val)\n",
    "df_all_cata = divide_cata(df_all)\n",
    "#df_cata = [df_train_cata, df_val_cata, df_all_cata]\n",
    "\n",
    "value_counts = df_all_cata[\"total\"].value_counts()\n",
    "value_dict = {}\n",
    "for i in value_counts.index:\n",
    "    print(df_all_cata[\"total\"][i])\n",
    "    break\n",
    "\n",
    "x = value_counts.index\n",
    "print(x)\n",
    "y = value_counts.values\n",
    "# 막대 그래프 생성\n",
    "line_graph = plt.bar(x, y)\n",
    "# 숫자 넣는 부분\n",
    "# 숫자 넣는 부분, height + 0.25로 숫자 약간 위로 위치하게 조정\n",
    "for i in range(len(x)):\n",
    "    height = y[i]\n",
    "    plt.text(x[i], height + 0.25, height, ha='center', va='bottom', size=12)\n",
    "\n",
    "# 그래프 제목 설정\n",
    "plt.title(f\"자기표현/나의위인전 - 전체\")\n",
    "# x축 레이블 설정\n",
    "plt.xlabel('score')\n",
    "plt.xticks([x for x in range(10, 31)])\n",
    "# y축 레이블 설정\n",
    "plt.ylabel('Count')\n"
   ],
   "metadata": {
    "collapsed": false,
    "ExecuteTime": {
     "end_time": "2023-07-28T07:08:59.092928500Z",
     "start_time": "2023-07-28T07:08:58.872479900Z"
    }
   }
  },
  {
   "cell_type": "code",
   "execution_count": null,
   "outputs": [],
   "source": [
    "\n"
   ],
   "metadata": {
    "collapsed": false
   }
  }
 ],
 "metadata": {
  "kernelspec": {
   "display_name": "Python 3",
   "language": "python",
   "name": "python3"
  },
  "language_info": {
   "codemirror_mode": {
    "name": "ipython",
    "version": 2
   },
   "file_extension": ".py",
   "mimetype": "text/x-python",
   "name": "python",
   "nbconvert_exporter": "python",
   "pygments_lexer": "ipython2",
   "version": "2.7.6"
  }
 },
 "nbformat": 4,
 "nbformat_minor": 0
}
