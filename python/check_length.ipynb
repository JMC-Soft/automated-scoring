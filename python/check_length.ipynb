{
 "cells": [
  {
   "cell_type": "code",
   "execution_count": 40,
   "metadata": {
    "collapsed": true,
    "ExecuteTime": {
     "end_time": "2023-07-31T08:09:31.480361Z",
     "start_time": "2023-07-31T08:09:31.457355100Z"
    }
   },
   "outputs": [],
   "source": [
    "import pandas as pd"
   ]
  },
  {
   "cell_type": "code",
   "execution_count": 53,
   "outputs": [],
   "source": [
    "CATEGORY = \"본인의 성격\"\n",
    "TRAIN_FILE_PATH = f'./preprocess_data/{CATEGORY}_train.xlsx'"
   ],
   "metadata": {
    "collapsed": false,
    "ExecuteTime": {
     "end_time": "2023-07-31T08:11:17.944460500Z",
     "start_time": "2023-07-31T08:11:17.920455Z"
    }
   }
  },
  {
   "cell_type": "code",
   "execution_count": 54,
   "outputs": [
    {
     "data": {
      "text/plain": "                                                  text  주제의 명료성  설명의 구체성  \\\n0    나의 성격의 장점은 어른들께 예의를 지키는 것과 친하지 않아도 친절하게 좋게 보이려...        2        2   \n1    내 성격에는 수 많은 장점과 단점이 있지만 그 중 장점 2가지와 단점 2가지를 제시...        3        3   \n2    내가 생각해도 내 성격은 모순이 많아서 장단점을로 나누기 힘들것 같다. 그래도 장점...        2        3   \n3    내 성격 중 장점 한 가지는 마음씨가 착하다이고, 나머지 하나는 분노조절을 잘 하는...        2        2   \n4    내 성격중 장점 2가지와 단점 2가지를 제시하겠다. 내 성격중 단점 첫번째는 조울증...        2        2   \n..                                                 ...      ...      ...   \n899  내 성격은 별난가? 나는 관심을 받기 싫어하지만 관심을 받고 싶어 한다. 무슨 소리...        2        2   \n900  저의 성격의 장점은 무엇이든 열심히 하는 성실함이라고 생각합니다. 그리고 일을 처리...        2        2   \n901  내 성격은 느림보 거북이 같다. 왜냐면 난 엄청 태평하고 느릿느릿하기 때문이다. 그...        3        2   \n902  제 성격은 조용하고 말이 없습니다. 그렇다고 차분하고 과묵한 성격은 또 아니지만, ...        2        2   \n903  나는 남들보다 착하고 잘 웃고 행복하고 공부를 잘한다. 게임도 잘한다. 나의 장점은...        2        2   \n\n     프롬프트 독해력  사고의 창의성  문법의 정확성  단어 사용의 적절성  문장 표현의 적절성  문단 간 구조의 적절성  \\\n0           0        2        2           2           2             2   \n1           0        3        3           3           3             3   \n2           0        2        3           3           2             3   \n3           0        2        2           2           2             2   \n4           0        2        2           3           2             2   \n..        ...      ...      ...         ...         ...           ...   \n899         0        2        2           2           2             2   \n900         0        3        2           2           2             2   \n901         0        2        2           1           2             2   \n902         0        2        2           2           1             2   \n903         0        1        2           2           2             2   \n\n     문단 내 구조의 적절성  구조의 일관성  분량의 적절성  \n0               2        2        2  \n1               3        3        3  \n2               2        3        3  \n3               2        2        2  \n4               2        3        3  \n..            ...      ...      ...  \n899             2        2        3  \n900             2        2        2  \n901             2        2        3  \n902             2        2        3  \n903             2        2        0  \n\n[904 rows x 12 columns]",
      "text/html": "<div>\n<style scoped>\n    .dataframe tbody tr th:only-of-type {\n        vertical-align: middle;\n    }\n\n    .dataframe tbody tr th {\n        vertical-align: top;\n    }\n\n    .dataframe thead th {\n        text-align: right;\n    }\n</style>\n<table border=\"1\" class=\"dataframe\">\n  <thead>\n    <tr style=\"text-align: right;\">\n      <th></th>\n      <th>text</th>\n      <th>주제의 명료성</th>\n      <th>설명의 구체성</th>\n      <th>프롬프트 독해력</th>\n      <th>사고의 창의성</th>\n      <th>문법의 정확성</th>\n      <th>단어 사용의 적절성</th>\n      <th>문장 표현의 적절성</th>\n      <th>문단 간 구조의 적절성</th>\n      <th>문단 내 구조의 적절성</th>\n      <th>구조의 일관성</th>\n      <th>분량의 적절성</th>\n    </tr>\n  </thead>\n  <tbody>\n    <tr>\n      <th>0</th>\n      <td>나의 성격의 장점은 어른들께 예의를 지키는 것과 친하지 않아도 친절하게 좋게 보이려...</td>\n      <td>2</td>\n      <td>2</td>\n      <td>0</td>\n      <td>2</td>\n      <td>2</td>\n      <td>2</td>\n      <td>2</td>\n      <td>2</td>\n      <td>2</td>\n      <td>2</td>\n      <td>2</td>\n    </tr>\n    <tr>\n      <th>1</th>\n      <td>내 성격에는 수 많은 장점과 단점이 있지만 그 중 장점 2가지와 단점 2가지를 제시...</td>\n      <td>3</td>\n      <td>3</td>\n      <td>0</td>\n      <td>3</td>\n      <td>3</td>\n      <td>3</td>\n      <td>3</td>\n      <td>3</td>\n      <td>3</td>\n      <td>3</td>\n      <td>3</td>\n    </tr>\n    <tr>\n      <th>2</th>\n      <td>내가 생각해도 내 성격은 모순이 많아서 장단점을로 나누기 힘들것 같다. 그래도 장점...</td>\n      <td>2</td>\n      <td>3</td>\n      <td>0</td>\n      <td>2</td>\n      <td>3</td>\n      <td>3</td>\n      <td>2</td>\n      <td>3</td>\n      <td>2</td>\n      <td>3</td>\n      <td>3</td>\n    </tr>\n    <tr>\n      <th>3</th>\n      <td>내 성격 중 장점 한 가지는 마음씨가 착하다이고, 나머지 하나는 분노조절을 잘 하는...</td>\n      <td>2</td>\n      <td>2</td>\n      <td>0</td>\n      <td>2</td>\n      <td>2</td>\n      <td>2</td>\n      <td>2</td>\n      <td>2</td>\n      <td>2</td>\n      <td>2</td>\n      <td>2</td>\n    </tr>\n    <tr>\n      <th>4</th>\n      <td>내 성격중 장점 2가지와 단점 2가지를 제시하겠다. 내 성격중 단점 첫번째는 조울증...</td>\n      <td>2</td>\n      <td>2</td>\n      <td>0</td>\n      <td>2</td>\n      <td>2</td>\n      <td>3</td>\n      <td>2</td>\n      <td>2</td>\n      <td>2</td>\n      <td>3</td>\n      <td>3</td>\n    </tr>\n    <tr>\n      <th>...</th>\n      <td>...</td>\n      <td>...</td>\n      <td>...</td>\n      <td>...</td>\n      <td>...</td>\n      <td>...</td>\n      <td>...</td>\n      <td>...</td>\n      <td>...</td>\n      <td>...</td>\n      <td>...</td>\n      <td>...</td>\n    </tr>\n    <tr>\n      <th>899</th>\n      <td>내 성격은 별난가? 나는 관심을 받기 싫어하지만 관심을 받고 싶어 한다. 무슨 소리...</td>\n      <td>2</td>\n      <td>2</td>\n      <td>0</td>\n      <td>2</td>\n      <td>2</td>\n      <td>2</td>\n      <td>2</td>\n      <td>2</td>\n      <td>2</td>\n      <td>2</td>\n      <td>3</td>\n    </tr>\n    <tr>\n      <th>900</th>\n      <td>저의 성격의 장점은 무엇이든 열심히 하는 성실함이라고 생각합니다. 그리고 일을 처리...</td>\n      <td>2</td>\n      <td>2</td>\n      <td>0</td>\n      <td>3</td>\n      <td>2</td>\n      <td>2</td>\n      <td>2</td>\n      <td>2</td>\n      <td>2</td>\n      <td>2</td>\n      <td>2</td>\n    </tr>\n    <tr>\n      <th>901</th>\n      <td>내 성격은 느림보 거북이 같다. 왜냐면 난 엄청 태평하고 느릿느릿하기 때문이다. 그...</td>\n      <td>3</td>\n      <td>2</td>\n      <td>0</td>\n      <td>2</td>\n      <td>2</td>\n      <td>1</td>\n      <td>2</td>\n      <td>2</td>\n      <td>2</td>\n      <td>2</td>\n      <td>3</td>\n    </tr>\n    <tr>\n      <th>902</th>\n      <td>제 성격은 조용하고 말이 없습니다. 그렇다고 차분하고 과묵한 성격은 또 아니지만, ...</td>\n      <td>2</td>\n      <td>2</td>\n      <td>0</td>\n      <td>2</td>\n      <td>2</td>\n      <td>2</td>\n      <td>1</td>\n      <td>2</td>\n      <td>2</td>\n      <td>2</td>\n      <td>3</td>\n    </tr>\n    <tr>\n      <th>903</th>\n      <td>나는 남들보다 착하고 잘 웃고 행복하고 공부를 잘한다. 게임도 잘한다. 나의 장점은...</td>\n      <td>2</td>\n      <td>2</td>\n      <td>0</td>\n      <td>1</td>\n      <td>2</td>\n      <td>2</td>\n      <td>2</td>\n      <td>2</td>\n      <td>2</td>\n      <td>2</td>\n      <td>0</td>\n    </tr>\n  </tbody>\n</table>\n<p>904 rows × 12 columns</p>\n</div>"
     },
     "execution_count": 54,
     "metadata": {},
     "output_type": "execute_result"
    }
   ],
   "source": [
    "df = pd.read_excel(TRAIN_FILE_PATH)\n",
    "df"
   ],
   "metadata": {
    "collapsed": false,
    "ExecuteTime": {
     "end_time": "2023-07-31T08:11:18.427342Z",
     "start_time": "2023-07-31T08:11:18.260366700Z"
    }
   }
  },
  {
   "cell_type": "code",
   "execution_count": 55,
   "outputs": [
    {
     "data": {
      "text/plain": "0      468\n1      667\n2      917\n3      614\n4      534\n      ... \n899    544\n900    542\n901    628\n902    610\n903    291\nName: text, Length: 904, dtype: int64"
     },
     "execution_count": 55,
     "metadata": {},
     "output_type": "execute_result"
    }
   ],
   "source": [
    "df['text'].str.len()"
   ],
   "metadata": {
    "collapsed": false,
    "ExecuteTime": {
     "end_time": "2023-07-31T08:11:18.472352600Z",
     "start_time": "2023-07-31T08:11:18.445347900Z"
    }
   }
  },
  {
   "cell_type": "code",
   "execution_count": 56,
   "outputs": [],
   "source": [
    "longest_length = df['text'].str.len().max()\n",
    "shortest_length = df['text'].str.len().min()"
   ],
   "metadata": {
    "collapsed": false,
    "ExecuteTime": {
     "end_time": "2023-07-31T08:11:18.907745400Z",
     "start_time": "2023-07-31T08:11:18.876443400Z"
    }
   }
  },
  {
   "cell_type": "code",
   "execution_count": 57,
   "outputs": [
    {
     "name": "stdout",
     "output_type": "stream",
     "text": [
      "longest_length :  1331\n",
      "shortest_length :  254\n"
     ]
    }
   ],
   "source": [
    "print(\"longest_length : \", longest_length)\n",
    "print(\"shortest_length : \", shortest_length)"
   ],
   "metadata": {
    "collapsed": false,
    "ExecuteTime": {
     "end_time": "2023-07-31T08:11:19.436866400Z",
     "start_time": "2023-07-31T08:11:19.417862Z"
    }
   }
  },
  {
   "cell_type": "code",
   "execution_count": 58,
   "outputs": [
    {
     "data": {
      "text/plain": "                                                  text  주제의 명료성  설명의 구체성  \\\n738  나의 장점은 대단한 상식이 있다는 것이다. 어렸을 때부터 궁금증이 생기면 해결될 때...        2        2   \n\n     프롬프트 독해력  사고의 창의성  문법의 정확성  단어 사용의 적절성  문장 표현의 적절성  문단 간 구조의 적절성  \\\n738         0        1        2           2           2             1   \n\n     문단 내 구조의 적절성  구조의 일관성  분량의 적절성  \n738             2        2        0  ",
      "text/html": "<div>\n<style scoped>\n    .dataframe tbody tr th:only-of-type {\n        vertical-align: middle;\n    }\n\n    .dataframe tbody tr th {\n        vertical-align: top;\n    }\n\n    .dataframe thead th {\n        text-align: right;\n    }\n</style>\n<table border=\"1\" class=\"dataframe\">\n  <thead>\n    <tr style=\"text-align: right;\">\n      <th></th>\n      <th>text</th>\n      <th>주제의 명료성</th>\n      <th>설명의 구체성</th>\n      <th>프롬프트 독해력</th>\n      <th>사고의 창의성</th>\n      <th>문법의 정확성</th>\n      <th>단어 사용의 적절성</th>\n      <th>문장 표현의 적절성</th>\n      <th>문단 간 구조의 적절성</th>\n      <th>문단 내 구조의 적절성</th>\n      <th>구조의 일관성</th>\n      <th>분량의 적절성</th>\n    </tr>\n  </thead>\n  <tbody>\n    <tr>\n      <th>738</th>\n      <td>나의 장점은 대단한 상식이 있다는 것이다. 어렸을 때부터 궁금증이 생기면 해결될 때...</td>\n      <td>2</td>\n      <td>2</td>\n      <td>0</td>\n      <td>1</td>\n      <td>2</td>\n      <td>2</td>\n      <td>2</td>\n      <td>1</td>\n      <td>2</td>\n      <td>2</td>\n      <td>0</td>\n    </tr>\n  </tbody>\n</table>\n</div>"
     },
     "execution_count": 58,
     "metadata": {},
     "output_type": "execute_result"
    }
   ],
   "source": [
    "shortest_texts = df[df['text'].str.len() == shortest_length]\n",
    "shortest_texts"
   ],
   "metadata": {
    "collapsed": false,
    "ExecuteTime": {
     "end_time": "2023-07-31T08:11:19.879738Z",
     "start_time": "2023-07-31T08:11:19.851731400Z"
    }
   }
  },
  {
   "cell_type": "code",
   "execution_count": null,
   "outputs": [],
   "source": [],
   "metadata": {
    "collapsed": false
   }
  }
 ],
 "metadata": {
  "kernelspec": {
   "display_name": "Python 3",
   "language": "python",
   "name": "python3"
  },
  "language_info": {
   "codemirror_mode": {
    "name": "ipython",
    "version": 2
   },
   "file_extension": ".py",
   "mimetype": "text/x-python",
   "name": "python",
   "nbconvert_exporter": "python",
   "pygments_lexer": "ipython2",
   "version": "2.7.6"
  }
 },
 "nbformat": 4,
 "nbformat_minor": 0
}
