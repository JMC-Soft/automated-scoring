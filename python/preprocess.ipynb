{
 "cells": [
  {
   "cell_type": "code",
   "execution_count": 4,
   "metadata": {
    "collapsed": true,
    "ExecuteTime": {
     "end_time": "2023-07-31T08:06:37.346747600Z",
     "start_time": "2023-07-31T08:06:37.326127200Z"
    }
   },
   "outputs": [],
   "source": [
    "import os\n",
    "import json\n",
    "import pandas as pd\n",
    "import numpy as np"
   ]
  },
  {
   "cell_type": "code",
   "execution_count": 9,
   "outputs": [],
   "source": [
    "CATEGORY = \"설명글\"  # 글짓기, 설명글\n",
    "CLASS = \"중등_2학년\"\n",
    "TOPIC = \"본인의 셩격\"\n",
    "# 나의 위인전\n",
    "# 혐오시설 건설문제에 대한 본인의 생각\n",
    "# 영화/독서감상문\n",
    "FILE_PATH = f'preprocess_data/{TOPIC}'\n"
   ],
   "metadata": {
    "collapsed": false,
    "ExecuteTime": {
     "end_time": "2023-07-31T08:09:16.304284100Z",
     "start_time": "2023-07-31T08:09:16.278278100Z"
    }
   }
  },
  {
   "cell_type": "code",
   "execution_count": 10,
   "outputs": [],
   "source": [
    "CONT0 = \"주제의 명료성\"\n",
    "CONT1 = \"설명의 구체성\"\n",
    "CONT2 = \"프롬프트 독해력\"  # 확정\n",
    "CONT3 = \"사고의 창의성\"\n",
    "EXP0 = \"문법의 정확성\"\n",
    "EXP1 = \"단어 사용의 적절성\"\n",
    "EXP2 = \"문장 표현의 적절성\"  # 확정\n",
    "ORG0 = \"문단 간 구조의 적절성\"  # 확정\n",
    "ORG1 = \"문단 내 구조의 적절성\"\n",
    "ORG2 = \"구조의 일관성\"  # 확정\n",
    "ORG3 = \"분량의 적절성\""
   ],
   "metadata": {
    "collapsed": false,
    "ExecuteTime": {
     "end_time": "2023-07-31T08:09:16.589347200Z",
     "start_time": "2023-07-31T08:09:16.571344100Z"
    }
   }
  },
  {
   "cell_type": "code",
   "execution_count": 11,
   "outputs": [],
   "source": [
    "train_directory = './original_data/01.데이터/1.Training/라벨링데이터/' + CATEGORY\n",
    "\n",
    "# Create an empty DataFrame to store the results\n",
    "train_df = pd.DataFrame(\n",
    "    columns=['text', CONT0, CONT1, CONT2, CONT3, EXP0, EXP1, EXP2, ORG0, ORG1, ORG2, ORG3])\n",
    "\n",
    "for filename in os.listdir(train_directory):\n",
    "    # Check if the filename starts with \"Writing_high school_1st grade_ESSAY\"\n",
    "    if filename.startswith(f\"{CATEGORY}_{CLASS}_ESSAY\"):\n",
    "        # Open the file\n",
    "        with open(os.path.join(train_directory, filename), 'r', encoding='utf-8') as f:\n",
    "            # Load the JSON data\n",
    "            data = json.load(f)\n",
    "\n",
    "            topic = data[\"rubric\"][\"essay_main_subject\"]\n",
    "            if topic == TOPIC:\n",
    "                # Get the data from 'essay_scoreT_org'\n",
    "                text = \"\"\n",
    "\n",
    "                for paragraph in data['paragraph']:\n",
    "                    text += paragraph['paragraph_txt'].replace('#@문장구분#', '')\n",
    "\n",
    "                cont_scores = np.array(data['score']['essay_scoreT_detail']['essay_scoreT_cont'])\n",
    "                org_scores = np.array(data['score']['essay_scoreT_detail']['essay_scoreT_org'])\n",
    "                exp_scores = np.array(data['score']['essay_scoreT_detail']['essay_scoreT_exp'])\n",
    "\n",
    "                # Compute the averages and round them\n",
    "                cont_avg = np.round(cont_scores.mean(axis=0))\n",
    "                exp_avg = np.round(exp_scores.mean(axis=0))\n",
    "                org_avg = np.round(org_scores.mean(axis=0))\n",
    "\n",
    "                # Add to DataFrame\n",
    "                train_df = train_df.append({\n",
    "                    'text': text,\n",
    "                    CONT0: cont_avg[0],\n",
    "                    CONT1: cont_avg[1],\n",
    "                    CONT2: cont_avg[2],\n",
    "                    CONT3: cont_avg[3],\n",
    "                    EXP0: exp_avg[0],\n",
    "                    EXP1: exp_avg[1],\n",
    "                    EXP2: exp_avg[2],\n",
    "                    ORG0: org_avg[0],\n",
    "                    ORG1: org_avg[1],\n",
    "                    ORG2: org_avg[2],\n",
    "                    ORG3: org_avg[3]\n",
    "                }, ignore_index=True)\n",
    "\n",
    "train_df.to_excel(f'{FILE_PATH}_train.xlsx', index=False)"
   ],
   "metadata": {
    "collapsed": false,
    "ExecuteTime": {
     "end_time": "2023-07-31T08:09:26.719649700Z",
     "start_time": "2023-07-31T08:09:16.871422300Z"
    }
   }
  },
  {
   "cell_type": "code",
   "execution_count": 12,
   "outputs": [],
   "source": [
    "# train_directory = './original_data/01.데이터/1.Training/라벨링데이터/글짓기'\n",
    "val_directory = './original_data/01.데이터/2.Validation/라벨링데이터/' + CATEGORY\n",
    "\n",
    "# Create an empty DataFrame to store the results\n",
    "val_df = pd.DataFrame(\n",
    "    columns=['text', CONT0, CONT1, CONT2, CONT3, EXP0, EXP1, EXP2, ORG0, ORG1, ORG2, ORG3])\n",
    "\n",
    "# Scan through the directory\n",
    "for filename in os.listdir(val_directory):\n",
    "    # Check if the filename starts with \"Writing_high school_1st grade_ESSAY\"\n",
    "    if filename.startswith(f\"{CATEGORY}_{CLASS}_ESSAY\"):\n",
    "        # Open the file\n",
    "        with open(os.path.join(val_directory, filename), 'r', encoding='utf-8') as f:\n",
    "            # Load the JSON data\n",
    "            data = json.load(f)\n",
    "\n",
    "            topic = data[\"rubric\"][\"essay_main_subject\"]\n",
    "\n",
    "            if topic == TOPIC:\n",
    "                # Get the data from 'essay_scoreT_org'\n",
    "                text = \"\"\n",
    "\n",
    "                for paragraph in data['paragraph']:\n",
    "                    text += paragraph['paragraph_txt'].replace('#@문장구분#', '')\n",
    "\n",
    "                cont_scores = np.array(data['score']['essay_scoreT_detail']['essay_scoreT_cont'])\n",
    "                org_scores = np.array(data['score']['essay_scoreT_detail']['essay_scoreT_org'])\n",
    "                exp_scores = np.array(data['score']['essay_scoreT_detail']['essay_scoreT_exp'])\n",
    "\n",
    "                # Compute the averages and round them\n",
    "                cont_avg = np.round(cont_scores.mean(axis=0))\n",
    "                org_avg = np.round(org_scores.mean(axis=0))\n",
    "                exp_avg = np.round(exp_scores.mean(axis=0))\n",
    "\n",
    "                # Add to DataFrame\n",
    "                val_df = val_df.append({\n",
    "                    'text': text,\n",
    "                    CONT0: cont_avg[0],\n",
    "                    CONT1: cont_avg[1],\n",
    "                    CONT2: cont_avg[2],\n",
    "                    CONT3: cont_avg[3],\n",
    "                    EXP0: exp_avg[0],\n",
    "                    EXP1: exp_avg[1],\n",
    "                    EXP2: exp_avg[2],\n",
    "                    ORG0: org_avg[0],\n",
    "                    ORG1: org_avg[1],\n",
    "                    ORG2: org_avg[2],\n",
    "                    ORG3: org_avg[3]\n",
    "                }, ignore_index=True)\n",
    "\n",
    "# Save DataFrame to Excel\n",
    "val_df.to_excel(f'{FILE_PATH}_val.xlsx', index=False)"
   ],
   "metadata": {
    "collapsed": false,
    "ExecuteTime": {
     "end_time": "2023-07-31T08:09:27.836680Z",
     "start_time": "2023-07-31T08:09:26.722651300Z"
    }
   }
  },
  {
   "cell_type": "code",
   "execution_count": null,
   "outputs": [],
   "source": [],
   "metadata": {
    "collapsed": false
   }
  },
  {
   "cell_type": "code",
   "execution_count": null,
   "outputs": [],
   "source": [],
   "metadata": {
    "collapsed": false
   }
  }
 ],
 "metadata": {
  "kernelspec": {
   "display_name": "Python 3",
   "language": "python",
   "name": "python3"
  },
  "language_info": {
   "codemirror_mode": {
    "name": "ipython",
    "version": 2
   },
   "file_extension": ".py",
   "mimetype": "text/x-python",
   "name": "python",
   "nbconvert_exporter": "python",
   "pygments_lexer": "ipython2",
   "version": "2.7.6"
  }
 },
 "nbformat": 4,
 "nbformat_minor": 0
}
