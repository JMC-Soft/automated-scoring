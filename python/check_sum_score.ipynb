{
 "cells": [
  {
   "cell_type": "code",
   "execution_count": 121,
   "outputs": [
    {
     "name": "stdout",
     "output_type": "stream",
     "text": [
      "Requirement already satisfied: seaborn in c:\\users\\i\\appdata\\local\\programs\\python\\python39\\lib\\site-packages (0.12.2)\n",
      "Requirement already satisfied: pandas>=0.25 in c:\\users\\i\\appdata\\roaming\\python\\python39\\site-packages (from seaborn) (1.4.3)\n",
      "Requirement already satisfied: numpy!=1.24.0,>=1.17 in c:\\users\\i\\appdata\\roaming\\python\\python39\\site-packages (from seaborn) (1.24.1)\n",
      "Requirement already satisfied: matplotlib!=3.6.1,>=3.1 in c:\\users\\i\\appdata\\local\\programs\\python\\python39\\lib\\site-packages (from seaborn) (3.7.2)\n",
      "Requirement already satisfied: fonttools>=4.22.0 in c:\\users\\i\\appdata\\local\\programs\\python\\python39\\lib\\site-packages (from matplotlib!=3.6.1,>=3.1->seaborn) (4.41.1)\n",
      "Requirement already satisfied: contourpy>=1.0.1 in c:\\users\\i\\appdata\\local\\programs\\python\\python39\\lib\\site-packages (from matplotlib!=3.6.1,>=3.1->seaborn) (1.1.0)\n",
      "Requirement already satisfied: kiwisolver>=1.0.1 in c:\\users\\i\\appdata\\local\\programs\\python\\python39\\lib\\site-packages (from matplotlib!=3.6.1,>=3.1->seaborn) (1.4.4)\n",
      "Requirement already satisfied: packaging>=20.0 in c:\\users\\i\\appdata\\local\\programs\\python\\python39\\lib\\site-packages (from matplotlib!=3.6.1,>=3.1->seaborn) (23.1)\n",
      "Requirement already satisfied: python-dateutil>=2.7 in c:\\users\\i\\appdata\\local\\programs\\python\\python39\\lib\\site-packages (from matplotlib!=3.6.1,>=3.1->seaborn) (2.8.2)\n",
      "Requirement already satisfied: cycler>=0.10 in c:\\users\\i\\appdata\\local\\programs\\python\\python39\\lib\\site-packages (from matplotlib!=3.6.1,>=3.1->seaborn) (0.11.0)\n",
      "Requirement already satisfied: pyparsing<3.1,>=2.3.1 in c:\\users\\i\\appdata\\local\\programs\\python\\python39\\lib\\site-packages (from matplotlib!=3.6.1,>=3.1->seaborn) (3.0.9)\n",
      "Requirement already satisfied: pillow>=6.2.0 in c:\\users\\i\\appdata\\local\\programs\\python\\python39\\lib\\site-packages (from matplotlib!=3.6.1,>=3.1->seaborn) (10.0.0)\n",
      "Requirement already satisfied: importlib-resources>=3.2.0 in c:\\users\\i\\appdata\\local\\programs\\python\\python39\\lib\\site-packages (from matplotlib!=3.6.1,>=3.1->seaborn) (6.0.0)\n",
      "Requirement already satisfied: pytz>=2020.1 in c:\\users\\i\\appdata\\roaming\\python\\python39\\site-packages (from pandas>=0.25->seaborn) (2022.1)\n",
      "Requirement already satisfied: zipp>=3.1.0 in c:\\users\\i\\appdata\\local\\programs\\python\\python39\\lib\\site-packages (from importlib-resources>=3.2.0->matplotlib!=3.6.1,>=3.1->seaborn) (3.16.2)\n",
      "Requirement already satisfied: six>=1.5 in c:\\users\\i\\appdata\\local\\programs\\python\\python39\\lib\\site-packages (from python-dateutil>=2.7->matplotlib!=3.6.1,>=3.1->seaborn) (1.16.0)\n"
     ]
    },
    {
     "name": "stderr",
     "output_type": "stream",
     "text": [
      "WARNING: You are using pip version 22.0.4; however, version 23.2.1 is available.\n",
      "You should consider upgrading via the 'C:\\Users\\I\\AppData\\Local\\Programs\\Python\\Python39\\python.exe -m pip install --upgrade pip' command.\n"
     ]
    },
    {
     "name": "stdout",
     "output_type": "stream",
     "text": [
      "Requirement already satisfied: dataframe_image in c:\\users\\i\\appdata\\local\\programs\\python\\python39\\lib\\site-packages (0.1.11)\n",
      "Requirement already satisfied: mistune in c:\\users\\i\\appdata\\local\\programs\\python\\python39\\lib\\site-packages (from dataframe_image) (3.0.1)\n",
      "Requirement already satisfied: nbconvert>=5 in c:\\users\\i\\appdata\\local\\programs\\python\\python39\\lib\\site-packages (from dataframe_image) (7.7.3)\n",
      "Requirement already satisfied: pandas>=0.24 in c:\\users\\i\\appdata\\roaming\\python\\python39\\site-packages (from dataframe_image) (1.4.3)\n",
      "Requirement already satisfied: beautifulsoup4 in c:\\users\\i\\appdata\\local\\programs\\python\\python39\\lib\\site-packages (from dataframe_image) (4.12.2)\n",
      "Requirement already satisfied: packaging in c:\\users\\i\\appdata\\local\\programs\\python\\python39\\lib\\site-packages (from dataframe_image) (23.1)\n",
      "Requirement already satisfied: html2image in c:\\users\\i\\appdata\\local\\programs\\python\\python39\\lib\\site-packages (from dataframe_image) (2.0.3)\n",
      "Requirement already satisfied: aiohttp in c:\\users\\i\\appdata\\local\\programs\\python\\python39\\lib\\site-packages (from dataframe_image) (3.8.5)\n",
      "Requirement already satisfied: pillow in c:\\users\\i\\appdata\\local\\programs\\python\\python39\\lib\\site-packages (from dataframe_image) (10.0.0)\n",
      "Requirement already satisfied: requests in c:\\users\\i\\appdata\\local\\programs\\python\\python39\\lib\\site-packages (from dataframe_image) (2.31.0)\n",
      "Requirement already satisfied: lxml in c:\\users\\i\\appdata\\local\\programs\\python\\python39\\lib\\site-packages (from dataframe_image) (4.9.3)\n",
      "Requirement already satisfied: cssutils in c:\\users\\i\\appdata\\local\\programs\\python\\python39\\lib\\site-packages (from dataframe_image) (2.7.1)\n",
      "Requirement already satisfied: bleach!=5.0.0 in c:\\users\\i\\appdata\\local\\programs\\python\\python39\\lib\\site-packages (from nbconvert>=5->dataframe_image) (6.0.0)\n",
      "Requirement already satisfied: markupsafe>=2.0 in c:\\users\\i\\appdata\\local\\programs\\python\\python39\\lib\\site-packages (from nbconvert>=5->dataframe_image) (2.1.3)\n",
      "Requirement already satisfied: traitlets>=5.1 in c:\\users\\i\\appdata\\local\\programs\\python\\python39\\lib\\site-packages (from nbconvert>=5->dataframe_image) (5.9.0)\n",
      "Requirement already satisfied: jinja2>=3.0 in c:\\users\\i\\appdata\\local\\programs\\python\\python39\\lib\\site-packages (from nbconvert>=5->dataframe_image) (3.1.2)\n",
      "Requirement already satisfied: defusedxml in c:\\users\\i\\appdata\\local\\programs\\python\\python39\\lib\\site-packages (from nbconvert>=5->dataframe_image) (0.7.1)\n",
      "Requirement already satisfied: pygments>=2.4.1 in c:\\users\\i\\appdata\\local\\programs\\python\\python39\\lib\\site-packages (from nbconvert>=5->dataframe_image) (2.15.1)\n",
      "Requirement already satisfied: importlib-metadata>=3.6 in c:\\users\\i\\appdata\\local\\programs\\python\\python39\\lib\\site-packages (from nbconvert>=5->dataframe_image) (6.8.0)\n",
      "Requirement already satisfied: pandocfilters>=1.4.1 in c:\\users\\i\\appdata\\local\\programs\\python\\python39\\lib\\site-packages (from nbconvert>=5->dataframe_image) (1.5.0)\n",
      "Requirement already satisfied: jupyter-core>=4.7 in c:\\users\\i\\appdata\\local\\programs\\python\\python39\\lib\\site-packages (from nbconvert>=5->dataframe_image) (5.3.1)\n",
      "Requirement already satisfied: jupyterlab-pygments in c:\\users\\i\\appdata\\local\\programs\\python\\python39\\lib\\site-packages (from nbconvert>=5->dataframe_image) (0.2.2)\n",
      "Requirement already satisfied: tinycss2 in c:\\users\\i\\appdata\\local\\programs\\python\\python39\\lib\\site-packages (from nbconvert>=5->dataframe_image) (1.2.1)\n",
      "Requirement already satisfied: nbclient>=0.5.0 in c:\\users\\i\\appdata\\local\\programs\\python\\python39\\lib\\site-packages (from nbconvert>=5->dataframe_image) (0.8.0)\n",
      "Requirement already satisfied: nbformat>=5.7 in c:\\users\\i\\appdata\\local\\programs\\python\\python39\\lib\\site-packages (from nbconvert>=5->dataframe_image) (5.9.1)\n",
      "Requirement already satisfied: pytz>=2020.1 in c:\\users\\i\\appdata\\roaming\\python\\python39\\site-packages (from pandas>=0.24->dataframe_image) (2022.1)\n",
      "Requirement already satisfied: python-dateutil>=2.8.1 in c:\\users\\i\\appdata\\local\\programs\\python\\python39\\lib\\site-packages (from pandas>=0.24->dataframe_image) (2.8.2)\n",
      "Requirement already satisfied: numpy>=1.18.5 in c:\\users\\i\\appdata\\roaming\\python\\python39\\site-packages (from pandas>=0.24->dataframe_image) (1.24.1)\n",
      "Requirement already satisfied: multidict<7.0,>=4.5 in c:\\users\\i\\appdata\\local\\programs\\python\\python39\\lib\\site-packages (from aiohttp->dataframe_image) (6.0.4)\n",
      "Requirement already satisfied: yarl<2.0,>=1.0 in c:\\users\\i\\appdata\\local\\programs\\python\\python39\\lib\\site-packages (from aiohttp->dataframe_image) (1.9.2)\n",
      "Requirement already satisfied: async-timeout<5.0,>=4.0.0a3 in c:\\users\\i\\appdata\\local\\programs\\python\\python39\\lib\\site-packages (from aiohttp->dataframe_image) (4.0.2)\n",
      "Requirement already satisfied: attrs>=17.3.0 in c:\\users\\i\\appdata\\local\\programs\\python\\python39\\lib\\site-packages (from aiohttp->dataframe_image) (23.1.0)\n",
      "Requirement already satisfied: charset-normalizer<4.0,>=2.0 in c:\\users\\i\\appdata\\local\\programs\\python\\python39\\lib\\site-packages (from aiohttp->dataframe_image) (3.2.0)\n",
      "Requirement already satisfied: aiosignal>=1.1.2 in c:\\users\\i\\appdata\\local\\programs\\python\\python39\\lib\\site-packages (from aiohttp->dataframe_image) (1.3.1)\n",
      "Requirement already satisfied: frozenlist>=1.1.1 in c:\\users\\i\\appdata\\local\\programs\\python\\python39\\lib\\site-packages (from aiohttp->dataframe_image) (1.4.0)\n",
      "Requirement already satisfied: soupsieve>1.2 in c:\\users\\i\\appdata\\local\\programs\\python\\python39\\lib\\site-packages (from beautifulsoup4->dataframe_image) (2.4.1)\n",
      "Requirement already satisfied: urllib3<3,>=1.21.1 in c:\\users\\i\\appdata\\local\\programs\\python\\python39\\lib\\site-packages (from requests->dataframe_image) (2.0.4)\n",
      "Requirement already satisfied: idna<4,>=2.5 in c:\\users\\i\\appdata\\local\\programs\\python\\python39\\lib\\site-packages (from requests->dataframe_image) (3.4)\n",
      "Requirement already satisfied: certifi>=2017.4.17 in c:\\users\\i\\appdata\\local\\programs\\python\\python39\\lib\\site-packages (from requests->dataframe_image) (2023.7.22)\n",
      "Requirement already satisfied: six>=1.9.0 in c:\\users\\i\\appdata\\local\\programs\\python\\python39\\lib\\site-packages (from bleach!=5.0.0->nbconvert>=5->dataframe_image) (1.16.0)\n",
      "Requirement already satisfied: webencodings in c:\\users\\i\\appdata\\local\\programs\\python\\python39\\lib\\site-packages (from bleach!=5.0.0->nbconvert>=5->dataframe_image) (0.5.1)\n",
      "Requirement already satisfied: zipp>=0.5 in c:\\users\\i\\appdata\\local\\programs\\python\\python39\\lib\\site-packages (from importlib-metadata>=3.6->nbconvert>=5->dataframe_image) (3.16.2)\n",
      "Requirement already satisfied: pywin32>=300 in c:\\users\\i\\appdata\\local\\programs\\python\\python39\\lib\\site-packages (from jupyter-core>=4.7->nbconvert>=5->dataframe_image) (306)\n",
      "Requirement already satisfied: platformdirs>=2.5 in c:\\users\\i\\appdata\\local\\programs\\python\\python39\\lib\\site-packages (from jupyter-core>=4.7->nbconvert>=5->dataframe_image) (3.9.1)\n",
      "Requirement already satisfied: jupyter-client>=6.1.12 in c:\\users\\i\\appdata\\local\\programs\\python\\python39\\lib\\site-packages (from nbclient>=0.5.0->nbconvert>=5->dataframe_image) (8.3.0)\n",
      "Requirement already satisfied: jsonschema>=2.6 in c:\\users\\i\\appdata\\local\\programs\\python\\python39\\lib\\site-packages (from nbformat>=5.7->nbconvert>=5->dataframe_image) (4.18.4)\n",
      "Requirement already satisfied: fastjsonschema in c:\\users\\i\\appdata\\local\\programs\\python\\python39\\lib\\site-packages (from nbformat>=5.7->nbconvert>=5->dataframe_image) (2.18.0)\n",
      "Requirement already satisfied: referencing>=0.28.4 in c:\\users\\i\\appdata\\local\\programs\\python\\python39\\lib\\site-packages (from jsonschema>=2.6->nbformat>=5.7->nbconvert>=5->dataframe_image) (0.30.0)\n",
      "Requirement already satisfied: rpds-py>=0.7.1 in c:\\users\\i\\appdata\\local\\programs\\python\\python39\\lib\\site-packages (from jsonschema>=2.6->nbformat>=5.7->nbconvert>=5->dataframe_image) (0.9.2)\n",
      "Requirement already satisfied: jsonschema-specifications>=2023.03.6 in c:\\users\\i\\appdata\\local\\programs\\python\\python39\\lib\\site-packages (from jsonschema>=2.6->nbformat>=5.7->nbconvert>=5->dataframe_image) (2023.7.1)\n",
      "Requirement already satisfied: tornado>=6.2 in c:\\users\\i\\appdata\\local\\programs\\python\\python39\\lib\\site-packages (from jupyter-client>=6.1.12->nbclient>=0.5.0->nbconvert>=5->dataframe_image) (6.3.2)\n",
      "Requirement already satisfied: pyzmq>=23.0 in c:\\users\\i\\appdata\\local\\programs\\python\\python39\\lib\\site-packages (from jupyter-client>=6.1.12->nbclient>=0.5.0->nbconvert>=5->dataframe_image) (25.1.0)\n"
     ]
    },
    {
     "name": "stderr",
     "output_type": "stream",
     "text": [
      "WARNING: You are using pip version 22.0.4; however, version 23.2.1 is available.\n",
      "You should consider upgrading via the 'C:\\Users\\I\\AppData\\Local\\Programs\\Python\\Python39\\python.exe -m pip install --upgrade pip' command.\n"
     ]
    }
   ],
   "source": [
    "!pip install seaborn\n",
    "!pip install dataframe_image"
   ],
   "metadata": {
    "collapsed": false,
    "ExecuteTime": {
     "end_time": "2023-07-31T07:19:43.732120700Z",
     "start_time": "2023-07-31T07:19:38.154205100Z"
    }
   }
  },
  {
   "cell_type": "code",
   "execution_count": 165,
   "outputs": [],
   "source": [
    "import pandas as pd\n",
    "import matplotlib.pyplot as plt\n",
    "from sklearn.metrics import accuracy_score, confusion_matrix, f1_score, classification_report, roc_auc_score\n",
    "from sklearn.preprocessing import LabelBinarizer\n",
    "import seaborn as sns\n",
    "import dataframe_image as dfi\n",
    "import numpy as np\n",
    "import scipy.stats as stats\n"
   ],
   "metadata": {
    "collapsed": false,
    "ExecuteTime": {
     "end_time": "2023-07-31T07:34:01.785290200Z",
     "start_time": "2023-07-31T07:34:01.770279500Z"
    }
   }
  },
  {
   "cell_type": "code",
   "execution_count": 166,
   "outputs": [],
   "source": [
    "DETAIL_MAP = [\"cont0 - 주제의 명료성\", \"cont1 - 설명의 구체성\", \"cont3 - 사고의 창의성\",\n",
    "              \"exp0 - 문법의 정확성\", \"exp1 - 단어 사용의 적절성\", \"exp2 - 문장 표현의 탄력성\",\n",
    "              \"org0 - 문단 간 구조의 적절성\", \"org1 - 문단 내 구조의 적절성\", \"org2 - 구조의 일관성\", \"org3 - 분량의 적절성\"]\n",
    "\n",
    "CATEGORY = \"본인의 성격\"\n",
    "VAL_PATH = f\"preprocess_data/{CATEGORY}_val.xlsx\"\n",
    "RESULT_PATH = f\"./result/data/{CATEGORY}_result.xlsx\"\n",
    "\n",
    "DIR_PATH = f\"./result/score/{CATEGORY}\""
   ],
   "metadata": {
    "collapsed": false,
    "ExecuteTime": {
     "end_time": "2023-07-31T07:34:05.368710100Z",
     "start_time": "2023-07-31T07:34:05.349698500Z"
    }
   }
  },
  {
   "cell_type": "code",
   "execution_count": 167,
   "outputs": [],
   "source": [
    "DF_VAL = pd.read_excel(VAL_PATH)\n",
    "DF_RESULT = pd.read_excel(RESULT_PATH)"
   ],
   "metadata": {
    "collapsed": false,
    "ExecuteTime": {
     "end_time": "2023-07-31T07:34:05.731111800Z",
     "start_time": "2023-07-31T07:34:05.674924900Z"
    }
   }
  },
  {
   "cell_type": "code",
   "execution_count": 168,
   "outputs": [],
   "source": [
    "# plt 한글깨짐 방지\n",
    "plt.rc('font', family='Malgun Gothic')\n",
    "\n",
    "df_label = DF_VAL\n",
    "df_preds = DF_RESULT\n",
    "\n"
   ],
   "metadata": {
    "collapsed": false,
    "ExecuteTime": {
     "end_time": "2023-07-31T07:34:05.971004700Z",
     "start_time": "2023-07-31T07:34:05.955000800Z"
    }
   }
  },
  {
   "cell_type": "code",
   "execution_count": 169,
   "outputs": [],
   "source": [
    "df_scatter = pd.DataFrame()\n",
    "df_temp = df_label.drop(df_label.columns[0], axis=1)"
   ],
   "metadata": {
    "collapsed": false,
    "ExecuteTime": {
     "end_time": "2023-07-31T07:34:06.170306600Z",
     "start_time": "2023-07-31T07:34:06.160304800Z"
    }
   }
  },
  {
   "cell_type": "code",
   "execution_count": 170,
   "outputs": [
    {
     "name": "stderr",
     "output_type": "stream",
     "text": [
      "C:\\Users\\I\\AppData\\Local\\Temp\\ipykernel_3980\\964516984.py:2: FutureWarning: Dropping of nuisance columns in DataFrame reductions (with 'numeric_only=None') is deprecated; in a future version this will raise TypeError.  Select only valid columns before calling the reduction.\n",
      "  df_scatter[\"pred\"] = df_preds.sum(axis=1)\n"
     ]
    }
   ],
   "source": [
    "df_scatter[\"label\"] = df_temp.sum(axis=1)\n",
    "df_scatter[\"pred\"] = df_preds.sum(axis=1)"
   ],
   "metadata": {
    "collapsed": false,
    "ExecuteTime": {
     "end_time": "2023-07-31T07:34:06.383154100Z",
     "start_time": "2023-07-31T07:34:06.361148400Z"
    }
   }
  },
  {
   "cell_type": "code",
   "execution_count": 171,
   "outputs": [
    {
     "data": {
      "text/plain": "     label  pred\n0       27    23\n1       22    21\n2       24    26\n3       25    22\n4       21    21\n..     ...   ...\n108     29    29\n109     28    27\n110     22    29\n111     21    27\n112     22    24\n\n[113 rows x 2 columns]",
      "text/html": "<div>\n<style scoped>\n    .dataframe tbody tr th:only-of-type {\n        vertical-align: middle;\n    }\n\n    .dataframe tbody tr th {\n        vertical-align: top;\n    }\n\n    .dataframe thead th {\n        text-align: right;\n    }\n</style>\n<table border=\"1\" class=\"dataframe\">\n  <thead>\n    <tr style=\"text-align: right;\">\n      <th></th>\n      <th>label</th>\n      <th>pred</th>\n    </tr>\n  </thead>\n  <tbody>\n    <tr>\n      <th>0</th>\n      <td>27</td>\n      <td>23</td>\n    </tr>\n    <tr>\n      <th>1</th>\n      <td>22</td>\n      <td>21</td>\n    </tr>\n    <tr>\n      <th>2</th>\n      <td>24</td>\n      <td>26</td>\n    </tr>\n    <tr>\n      <th>3</th>\n      <td>25</td>\n      <td>22</td>\n    </tr>\n    <tr>\n      <th>4</th>\n      <td>21</td>\n      <td>21</td>\n    </tr>\n    <tr>\n      <th>...</th>\n      <td>...</td>\n      <td>...</td>\n    </tr>\n    <tr>\n      <th>108</th>\n      <td>29</td>\n      <td>29</td>\n    </tr>\n    <tr>\n      <th>109</th>\n      <td>28</td>\n      <td>27</td>\n    </tr>\n    <tr>\n      <th>110</th>\n      <td>22</td>\n      <td>29</td>\n    </tr>\n    <tr>\n      <th>111</th>\n      <td>21</td>\n      <td>27</td>\n    </tr>\n    <tr>\n      <th>112</th>\n      <td>22</td>\n      <td>24</td>\n    </tr>\n  </tbody>\n</table>\n<p>113 rows × 2 columns</p>\n</div>"
     },
     "execution_count": 171,
     "metadata": {},
     "output_type": "execute_result"
    }
   ],
   "source": [
    "df_scatter"
   ],
   "metadata": {
    "collapsed": false,
    "ExecuteTime": {
     "end_time": "2023-07-31T07:34:06.706043600Z",
     "start_time": "2023-07-31T07:34:06.681223900Z"
    }
   }
  },
  {
   "cell_type": "code",
   "execution_count": 172,
   "outputs": [],
   "source": [
    "test = df_scatter[\"label\"]\n",
    "preds = df_scatter[\"pred\"]\n",
    "score_dict = {}"
   ],
   "metadata": {
    "collapsed": false,
    "ExecuteTime": {
     "end_time": "2023-07-31T07:34:06.873086600Z",
     "start_time": "2023-07-31T07:34:06.862084800Z"
    }
   }
  },
  {
   "cell_type": "code",
   "execution_count": 173,
   "outputs": [],
   "source": [
    "preds_df = pd.DataFrame(preds)\n",
    "preds_df = preds_df.rename(columns={'pred': 'label'})"
   ],
   "metadata": {
    "collapsed": false,
    "ExecuteTime": {
     "end_time": "2023-07-31T07:34:07.233633800Z",
     "start_time": "2023-07-31T07:34:07.210675Z"
    }
   }
  },
  {
   "cell_type": "code",
   "execution_count": 174,
   "outputs": [
    {
     "data": {
      "text/plain": "     label\n0       27\n1       22\n2       24\n3       25\n4       21\n..     ...\n108     29\n109     28\n110     22\n111     21\n112     22\n\n[113 rows x 1 columns]",
      "text/html": "<div>\n<style scoped>\n    .dataframe tbody tr th:only-of-type {\n        vertical-align: middle;\n    }\n\n    .dataframe tbody tr th {\n        vertical-align: top;\n    }\n\n    .dataframe thead th {\n        text-align: right;\n    }\n</style>\n<table border=\"1\" class=\"dataframe\">\n  <thead>\n    <tr style=\"text-align: right;\">\n      <th></th>\n      <th>label</th>\n    </tr>\n  </thead>\n  <tbody>\n    <tr>\n      <th>0</th>\n      <td>27</td>\n    </tr>\n    <tr>\n      <th>1</th>\n      <td>22</td>\n    </tr>\n    <tr>\n      <th>2</th>\n      <td>24</td>\n    </tr>\n    <tr>\n      <th>3</th>\n      <td>25</td>\n    </tr>\n    <tr>\n      <th>4</th>\n      <td>21</td>\n    </tr>\n    <tr>\n      <th>...</th>\n      <td>...</td>\n    </tr>\n    <tr>\n      <th>108</th>\n      <td>29</td>\n    </tr>\n    <tr>\n      <th>109</th>\n      <td>28</td>\n    </tr>\n    <tr>\n      <th>110</th>\n      <td>22</td>\n    </tr>\n    <tr>\n      <th>111</th>\n      <td>21</td>\n    </tr>\n    <tr>\n      <th>112</th>\n      <td>22</td>\n    </tr>\n  </tbody>\n</table>\n<p>113 rows × 1 columns</p>\n</div>"
     },
     "execution_count": 174,
     "metadata": {},
     "output_type": "execute_result"
    }
   ],
   "source": [
    "test_df = pd.DataFrame(test)\n",
    "test_df"
   ],
   "metadata": {
    "collapsed": false,
    "ExecuteTime": {
     "end_time": "2023-07-31T07:34:07.861702500Z",
     "start_time": "2023-07-31T07:34:07.837697300Z"
    }
   }
  },
  {
   "cell_type": "code",
   "execution_count": 175,
   "outputs": [
    {
     "data": {
      "text/plain": "     label  pred\n0       27    23\n1       22    21\n2       24    26\n3       25    22\n4       21    21\n..     ...   ...\n108     29    29\n109     28    27\n110     22    29\n111     21    27\n112     22    24\n\n[113 rows x 2 columns]",
      "text/html": "<div>\n<style scoped>\n    .dataframe tbody tr th:only-of-type {\n        vertical-align: middle;\n    }\n\n    .dataframe tbody tr th {\n        vertical-align: top;\n    }\n\n    .dataframe thead th {\n        text-align: right;\n    }\n</style>\n<table border=\"1\" class=\"dataframe\">\n  <thead>\n    <tr style=\"text-align: right;\">\n      <th></th>\n      <th>label</th>\n      <th>pred</th>\n    </tr>\n  </thead>\n  <tbody>\n    <tr>\n      <th>0</th>\n      <td>27</td>\n      <td>23</td>\n    </tr>\n    <tr>\n      <th>1</th>\n      <td>22</td>\n      <td>21</td>\n    </tr>\n    <tr>\n      <th>2</th>\n      <td>24</td>\n      <td>26</td>\n    </tr>\n    <tr>\n      <th>3</th>\n      <td>25</td>\n      <td>22</td>\n    </tr>\n    <tr>\n      <th>4</th>\n      <td>21</td>\n      <td>21</td>\n    </tr>\n    <tr>\n      <th>...</th>\n      <td>...</td>\n      <td>...</td>\n    </tr>\n    <tr>\n      <th>108</th>\n      <td>29</td>\n      <td>29</td>\n    </tr>\n    <tr>\n      <th>109</th>\n      <td>28</td>\n      <td>27</td>\n    </tr>\n    <tr>\n      <th>110</th>\n      <td>22</td>\n      <td>29</td>\n    </tr>\n    <tr>\n      <th>111</th>\n      <td>21</td>\n      <td>27</td>\n    </tr>\n    <tr>\n      <th>112</th>\n      <td>22</td>\n      <td>24</td>\n    </tr>\n  </tbody>\n</table>\n<p>113 rows × 2 columns</p>\n</div>"
     },
     "execution_count": 175,
     "metadata": {},
     "output_type": "execute_result"
    }
   ],
   "source": [
    "df_scatter"
   ],
   "metadata": {
    "collapsed": false,
    "ExecuteTime": {
     "end_time": "2023-07-31T07:34:08.219279900Z",
     "start_time": "2023-07-31T07:34:08.207277400Z"
    }
   }
  },
  {
   "cell_type": "code",
   "execution_count": 176,
   "outputs": [
    {
     "data": {
      "text/plain": "          label      pred\nlabel  1.000000  0.514057\npred   0.514057  1.000000",
      "text/html": "<div>\n<style scoped>\n    .dataframe tbody tr th:only-of-type {\n        vertical-align: middle;\n    }\n\n    .dataframe tbody tr th {\n        vertical-align: top;\n    }\n\n    .dataframe thead th {\n        text-align: right;\n    }\n</style>\n<table border=\"1\" class=\"dataframe\">\n  <thead>\n    <tr style=\"text-align: right;\">\n      <th></th>\n      <th>label</th>\n      <th>pred</th>\n    </tr>\n  </thead>\n  <tbody>\n    <tr>\n      <th>label</th>\n      <td>1.000000</td>\n      <td>0.514057</td>\n    </tr>\n    <tr>\n      <th>pred</th>\n      <td>0.514057</td>\n      <td>1.000000</td>\n    </tr>\n  </tbody>\n</table>\n</div>"
     },
     "execution_count": 176,
     "metadata": {},
     "output_type": "execute_result"
    }
   ],
   "source": [
    "df_scatter.corr(method='pearson')"
   ],
   "metadata": {
    "collapsed": false,
    "ExecuteTime": {
     "end_time": "2023-07-31T07:34:08.615294Z",
     "start_time": "2023-07-31T07:34:08.603292900Z"
    }
   }
  },
  {
   "cell_type": "code",
   "execution_count": 177,
   "outputs": [
    {
     "data": {
      "text/plain": "          label      pred\nlabel  1.000000  0.382357\npred   0.382357  1.000000",
      "text/html": "<div>\n<style scoped>\n    .dataframe tbody tr th:only-of-type {\n        vertical-align: middle;\n    }\n\n    .dataframe tbody tr th {\n        vertical-align: top;\n    }\n\n    .dataframe thead th {\n        text-align: right;\n    }\n</style>\n<table border=\"1\" class=\"dataframe\">\n  <thead>\n    <tr style=\"text-align: right;\">\n      <th></th>\n      <th>label</th>\n      <th>pred</th>\n    </tr>\n  </thead>\n  <tbody>\n    <tr>\n      <th>label</th>\n      <td>1.000000</td>\n      <td>0.382357</td>\n    </tr>\n    <tr>\n      <th>pred</th>\n      <td>0.382357</td>\n      <td>1.000000</td>\n    </tr>\n  </tbody>\n</table>\n</div>"
     },
     "execution_count": 177,
     "metadata": {},
     "output_type": "execute_result"
    }
   ],
   "source": [
    "df_scatter.corr(method='kendall')"
   ],
   "metadata": {
    "collapsed": false,
    "ExecuteTime": {
     "end_time": "2023-07-31T07:34:08.960695700Z",
     "start_time": "2023-07-31T07:34:08.936683900Z"
    }
   }
  },
  {
   "cell_type": "code",
   "execution_count": 178,
   "outputs": [
    {
     "data": {
      "text/plain": "          label      pred\nlabel  1.000000  0.510592\npred   0.510592  1.000000",
      "text/html": "<div>\n<style scoped>\n    .dataframe tbody tr th:only-of-type {\n        vertical-align: middle;\n    }\n\n    .dataframe tbody tr th {\n        vertical-align: top;\n    }\n\n    .dataframe thead th {\n        text-align: right;\n    }\n</style>\n<table border=\"1\" class=\"dataframe\">\n  <thead>\n    <tr style=\"text-align: right;\">\n      <th></th>\n      <th>label</th>\n      <th>pred</th>\n    </tr>\n  </thead>\n  <tbody>\n    <tr>\n      <th>label</th>\n      <td>1.000000</td>\n      <td>0.510592</td>\n    </tr>\n    <tr>\n      <th>pred</th>\n      <td>0.510592</td>\n      <td>1.000000</td>\n    </tr>\n  </tbody>\n</table>\n</div>"
     },
     "execution_count": 178,
     "metadata": {},
     "output_type": "execute_result"
    }
   ],
   "source": [
    "df_scatter.corr(method='spearman')"
   ],
   "metadata": {
    "collapsed": false,
    "ExecuteTime": {
     "end_time": "2023-07-31T07:34:09.397266700Z",
     "start_time": "2023-07-31T07:34:09.385253Z"
    }
   }
  },
  {
   "cell_type": "code",
   "execution_count": 179,
   "outputs": [
    {
     "data": {
      "text/plain": "<Figure size 640x480 with 1 Axes>",
      "image/png": "[encoded data removed]"
     },
     "metadata": {},
     "output_type": "display_data"
    }
   ],
   "source": [
    "plt.scatter(preds_df, test_df, alpha=0.5)\n",
    "plt.title('pred - test')\n",
    "plt.xlabel('pred')\n",
    "plt.ylabel('test')\n",
    "plt.show()"
   ],
   "metadata": {
    "collapsed": false,
    "ExecuteTime": {
     "end_time": "2023-07-31T07:34:09.922001Z",
     "start_time": "2023-07-31T07:34:09.782965800Z"
    }
   }
  },
  {
   "cell_type": "code",
   "execution_count": 181,
   "outputs": [
    {
     "data": {
      "text/plain": "PearsonRResult(statistic=0.5140565138802731, pvalue=5.761889994140267e-09)"
     },
     "execution_count": 181,
     "metadata": {},
     "output_type": "execute_result"
    }
   ],
   "source": [
    "stats.pearsonr(np.squeeze(preds_df), np.squeeze(test_df))"
   ],
   "metadata": {
    "collapsed": false,
    "ExecuteTime": {
     "end_time": "2023-07-31T07:34:47.522041900Z",
     "start_time": "2023-07-31T07:34:47.507887900Z"
    }
   }
  },
  {
   "cell_type": "code",
   "execution_count": null,
   "outputs": [],
   "source": [
    "# for detail in DETAIL_MAP:\n",
    "#     test = df_label[detail]\n",
    "#     preds = df_preds[detail]\n",
    "\n",
    "# classification_report\n",
    "report = classification_report(test, preds, output_dict=True)\n",
    "\n",
    "report_df = pd.DataFrame(report)\n",
    "dfi.export(report_df, f'{DIR_PATH}/result_report_{CATEGORY}_all.png', max_cols=-1, max_rows=-1)"
   ],
   "metadata": {
    "collapsed": false
   }
  },
  {
   "cell_type": "code",
   "execution_count": null,
   "outputs": [],
   "source": [
    "labels = np.concatenate((pd.unique(test), pd.unique(preds)))\n",
    "labels = np.unique(labels)\n",
    "labels = np.sort(labels)"
   ],
   "metadata": {
    "collapsed": false
   }
  },
  {
   "cell_type": "code",
   "execution_count": null,
   "outputs": [],
   "source": [
    "cm = confusion_matrix(test, preds, labels=labels)\n",
    "ax = sns.heatmap(cm, annot=True, cmap='YlGn_r')\n",
    "ax.set_xticklabels(labels)\n",
    "ax.set_yticklabels(labels)\n",
    "# plt.title(model_names[detail])\n",
    "plt.title('총점')\n",
    "plt.savefig(f'{DIR_PATH}/result_confusion_matrix_{CATEGORY}_all.png')\n",
    "print(f\"{CATEGORY}+all cm SAVE\")\n",
    "plt.clf()\n",
    "\n",
    "# score\n",
    "score_dict[\"accuracy_score\"] = '{:.4f}'.format(accuracy_score(test, preds))\n",
    "score_dict[\"f1_score(micro)\"] = '{:.4f}'.format(f1_score(test, preds, average=\"micro\"))\n",
    "score_dict[\"f1_score(macro)\"] = '{:.4f}'.format(f1_score(test, preds, average=\"macro\"))\n",
    "score_dict[\"f1_score(weighted)\"] = '{:.4f}'.format(f1_score(test, preds, average=\"weighted\"))\n",
    "\n",
    "label_binarizer = LabelBinarizer().fit(test)\n",
    "test = label_binarizer.transform(test)\n",
    "preds = label_binarizer.transform(preds)\n",
    "auc = roc_auc_score(\n",
    "    test,\n",
    "    preds,\n",
    "    multi_class=\"ovr\",\n",
    "    average=\"micro\",\n",
    ")\n",
    "score_dict[\"auc-ovr(mircro)\"] = '{:.4f}'.format(auc)\n",
    "\n",
    "score_df = pd.DataFrame(score_dict, index=[0])\n",
    "score_df = score_df.style.set_table_styles([\n",
    "    {'selector': 'th',\n",
    "     'props': [('text-align', 'center')]},\n",
    "    {'selector': 'td',\n",
    "     'props': [('text-align', 'center')]}\n",
    "])\n",
    "dfi.export(score_df, f'{DIR_PATH}/result_score_{CATEGORY}_all.png', max_cols=-1, max_rows=-1)\n",
    "print(f\"{CATEGORY}+all score SAVE\")"
   ],
   "metadata": {
    "collapsed": false
   }
  },
  {
   "cell_type": "code",
   "execution_count": null,
   "outputs": [],
   "source": [],
   "metadata": {
    "collapsed": false
   }
  },
  {
   "cell_type": "code",
   "execution_count": null,
   "outputs": [],
   "source": [],
   "metadata": {
    "collapsed": false
   }
  }
 ],
 "metadata": {
  "kernelspec": {
   "display_name": "Python 3",
   "language": "python",
   "name": "python3"
  },
  "language_info": {
   "codemirror_mode": {
    "name": "ipython",
    "version": 2
   },
   "file_extension": ".py",
   "mimetype": "text/x-python",
   "name": "python",
   "nbconvert_exporter": "python",
   "pygments_lexer": "ipython2",
   "version": "2.7.6"
  }
 },
 "nbformat": 4,
 "nbformat_minor": 0
}
